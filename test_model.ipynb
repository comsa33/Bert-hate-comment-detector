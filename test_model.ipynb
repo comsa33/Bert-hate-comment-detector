{
 "cells": [
  {
   "cell_type": "code",
   "execution_count": 1,
   "id": "f401c28a-6421-48db-94f1-5865da5315db",
   "metadata": {},
   "outputs": [],
   "source": [
    "from preprocess import Preprocess_with_bert\n",
    "from run import Detect_hate_comments\n",
    "import warnings\n",
    "warnings.filterwarnings('ignore')"
   ]
  },
  {
   "cell_type": "code",
   "execution_count": 2,
   "id": "acb33e3f-3e04-422c-8ee9-63fcc612c275",
   "metadata": {},
   "outputs": [],
   "source": [
    "target = ['hate', 'contain_gender_bias']\n",
    "model_name = ['bert-base-multilingual-cased', 'kykim/bert-kor-base']\n",
    "dir_path = ['bert-ckpt', 'kor-bert-ckpt']"
   ]
  },
  {
   "cell_type": "markdown",
   "id": "5c2ec3b0-686f-4259-86a0-0baf62a04996",
   "metadata": {},
   "source": [
    "# 악성 댓글 탐지 with Bert-base-multilingual"
   ]
  },
  {
   "cell_type": "code",
   "execution_count": 10,
   "id": "06681b22-e770-49bf-9ed4-a88418474c43",
   "metadata": {},
   "outputs": [
    {
     "name": "stderr",
     "output_type": "stream",
     "text": [
      "100%|█████████████████████████████████████| 7896/7896 [00:01<00:00, 6493.77it/s]\n",
      "100%|███████████████████████████████████████| 471/471 [00:00<00:00, 6393.90it/s]\n",
      "100%|███████████████████████████████████████| 974/974 [00:00<00:00, 6429.55it/s]\n",
      "Some layers from the model checkpoint at bert-base-multilingual-cased were not used when initializing TFBertModel: ['mlm___cls', 'nsp___cls']\n",
      "- This IS expected if you are initializing TFBertModel from the checkpoint of a model trained on another task or with another architecture (e.g. initializing a BertForSequenceClassification model from a BertForPreTraining model).\n",
      "- This IS NOT expected if you are initializing TFBertModel from the checkpoint of a model that you expect to be exactly identical (initializing a BertForSequenceClassification model from a BertForSequenceClassification model).\n",
      "All the layers of TFBertModel were initialized from the model checkpoint at bert-base-multilingual-cased.\n",
      "If your task is similar to the task the model of the checkpoint was trained on, you can already use TFBertModel for predictions without further training.\n"
     ]
    },
    {
     "name": "stdout",
     "output_type": "stream",
     "text": [
      "Epoch 1/10\n"
     ]
    },
    {
     "name": "stderr",
     "output_type": "stream",
     "text": [
      "2022-04-08 19:14:59.447716: I tensorflow/core/grappler/optimizers/custom_graph_optimizer_registry.cc:113] Plugin optimizer for device_type GPU is enabled.\n"
     ]
    },
    {
     "name": "stdout",
     "output_type": "stream",
     "text": [
      "62/62 [==============================] - ETA: 0s - loss: 0.6771 - accuracy: 0.5774"
     ]
    },
    {
     "name": "stderr",
     "output_type": "stream",
     "text": [
      "2022-04-08 19:16:07.601602: I tensorflow/core/grappler/optimizers/custom_graph_optimizer_registry.cc:113] Plugin optimizer for device_type GPU is enabled.\n"
     ]
    },
    {
     "name": "stdout",
     "output_type": "stream",
     "text": [
      "\n",
      "Epoch 1: val_accuracy improved from -inf to 0.69214, saving model to hate/bert-base-multilingual-cased/cp.ckpt\n",
      "62/62 [==============================] - 84s 1s/step - loss: 0.6771 - accuracy: 0.5774 - val_loss: 0.5791 - val_accuracy: 0.6921\n",
      "Epoch 2/10\n",
      "62/62 [==============================] - ETA: 0s - loss: 0.6039 - accuracy: 0.6733\n",
      "Epoch 2: val_accuracy improved from 0.69214 to 0.70701, saving model to hate/bert-base-multilingual-cased/cp.ckpt\n",
      "62/62 [==============================] - 61s 967ms/step - loss: 0.6039 - accuracy: 0.6733 - val_loss: 0.5713 - val_accuracy: 0.7070\n",
      "Epoch 3/10\n",
      "62/62 [==============================] - ETA: 0s - loss: 0.5299 - accuracy: 0.7399\n",
      "Epoch 3: val_accuracy did not improve from 0.70701\n",
      "62/62 [==============================] - 56s 881ms/step - loss: 0.5299 - accuracy: 0.7399 - val_loss: 0.6490 - val_accuracy: 0.6306\n",
      "Epoch 4/10\n",
      "62/62 [==============================] - ETA: 0s - loss: 0.4538 - accuracy: 0.7941\n",
      "Epoch 4: val_accuracy improved from 0.70701 to 0.71975, saving model to hate/bert-base-multilingual-cased/cp.ckpt\n",
      "62/62 [==============================] - 61s 985ms/step - loss: 0.4538 - accuracy: 0.7941 - val_loss: 0.5470 - val_accuracy: 0.7197\n",
      "Epoch 5/10\n",
      "62/62 [==============================] - ETA: 0s - loss: 0.3645 - accuracy: 0.8397\n",
      "Epoch 5: val_accuracy improved from 0.71975 to 0.73036, saving model to hate/bert-base-multilingual-cased/cp.ckpt\n",
      "62/62 [==============================] - 64s 1s/step - loss: 0.3645 - accuracy: 0.8397 - val_loss: 0.6653 - val_accuracy: 0.7304\n",
      "Epoch 6/10\n",
      "62/62 [==============================] - ETA: 0s - loss: 0.2557 - accuracy: 0.8959\n",
      "Epoch 6: val_accuracy did not improve from 0.73036\n",
      "62/62 [==============================] - 56s 888ms/step - loss: 0.2557 - accuracy: 0.8959 - val_loss: 0.7915 - val_accuracy: 0.6561\n",
      "Epoch 7/10\n",
      "62/62 [==============================] - ETA: 0s - loss: 0.1848 - accuracy: 0.9295\n",
      "Epoch 7: val_accuracy did not improve from 0.73036\n",
      "62/62 [==============================] - 55s 878ms/step - loss: 0.1848 - accuracy: 0.9295 - val_loss: 1.1120 - val_accuracy: 0.6624\n",
      "Epoch 8/10\n",
      "62/62 [==============================] - ETA: 0s - loss: 0.1320 - accuracy: 0.9459\n",
      "Epoch 8: val_accuracy did not improve from 0.73036\n",
      "62/62 [==============================] - 55s 878ms/step - loss: 0.1320 - accuracy: 0.9459 - val_loss: 1.2366 - val_accuracy: 0.7113\n",
      "Epoch 9/10\n",
      "62/62 [==============================] - ETA: 0s - loss: 0.1108 - accuracy: 0.9600\n",
      "Epoch 9: val_accuracy did not improve from 0.73036\n",
      "62/62 [==============================] - 55s 879ms/step - loss: 0.1108 - accuracy: 0.9600 - val_loss: 1.4109 - val_accuracy: 0.6667\n",
      "Epoch 10/10\n",
      "62/62 [==============================] - ETA: 0s - loss: 0.0687 - accuracy: 0.9740\n",
      "Epoch 10: val_accuracy did not improve from 0.73036\n",
      "62/62 [==============================] - 55s 880ms/step - loss: 0.0687 - accuracy: 0.9740 - val_loss: 1.6696 - val_accuracy: 0.6688\n"
     ]
    }
   ],
   "source": [
    "detect = Detect_hate_comments(target=target[0], \n",
    "                              model_name=model_name[0], \n",
    "                              dir_path=dir_path[0])\n",
    "detect.train_model(epochs=10, batch_size=128)"
   ]
  },
  {
   "cell_type": "code",
   "execution_count": 11,
   "id": "3521ef30-f20d-4e62-93aa-0556bde6f56d",
   "metadata": {},
   "outputs": [
    {
     "name": "stderr",
     "output_type": "stream",
     "text": [
      "2022-04-08 19:24:58.039842: I tensorflow/core/grappler/optimizers/custom_graph_optimizer_registry.cc:113] Plugin optimizer for device_type GPU is enabled.\n"
     ]
    },
    {
     "name": "stdout",
     "output_type": "stream",
     "text": [
      "0.7303609341825902 0.7954911433172303\n",
      "              precision    recall  f1-score   support\n",
      "\n",
      "           0       0.60      0.61      0.60       160\n",
      "           1       0.80      0.79      0.80       311\n",
      "\n",
      "    accuracy                           0.73       471\n",
      "   macro avg       0.70      0.70      0.70       471\n",
      "weighted avg       0.73      0.73      0.73       471\n",
      "\n"
     ]
    }
   ],
   "source": [
    "acc, f1, cls_report = detect.evaluation(batch_size=128)\n",
    "print(acc, f1)\n",
    "print(cls_report)"
   ]
  },
  {
   "cell_type": "code",
   "execution_count": 12,
   "id": "14b76861-52e9-4134-b941-2d821baf74b8",
   "metadata": {},
   "outputs": [
    {
     "data": {
      "text/html": [
       "<div>\n",
       "<style scoped>\n",
       "    .dataframe tbody tr th:only-of-type {\n",
       "        vertical-align: middle;\n",
       "    }\n",
       "\n",
       "    .dataframe tbody tr th {\n",
       "        vertical-align: top;\n",
       "    }\n",
       "\n",
       "    .dataframe thead th {\n",
       "        text-align: right;\n",
       "    }\n",
       "</style>\n",
       "<table border=\"1\" class=\"dataframe\">\n",
       "  <thead>\n",
       "    <tr style=\"text-align: right;\">\n",
       "      <th></th>\n",
       "      <th>comments</th>\n",
       "      <th>hate_prediction</th>\n",
       "    </tr>\n",
       "  </thead>\n",
       "  <tbody>\n",
       "    <tr>\n",
       "      <th>0</th>\n",
       "      <td>ㅋㅋㅋㅋ 그래도 조아해주는 팬들 많아서 좋겠다 ㅠㅠ 니들은 온유가 안만져줌 ㅠㅠ</td>\n",
       "      <td>1</td>\n",
       "    </tr>\n",
       "    <tr>\n",
       "      <th>1</th>\n",
       "      <td>둘다 넘 좋다~행복하세요</td>\n",
       "      <td>0</td>\n",
       "    </tr>\n",
       "    <tr>\n",
       "      <th>2</th>\n",
       "      <td>근데 만원이하는 현금결제만 하라고 써놓은집 우리나라에 엄청 많은데</td>\n",
       "      <td>1</td>\n",
       "    </tr>\n",
       "    <tr>\n",
       "      <th>3</th>\n",
       "      <td>원곡생각하나도 안나고 러블리즈 신곡나온줄!!! 너무 예쁘게 잘봤어요</td>\n",
       "      <td>0</td>\n",
       "    </tr>\n",
       "    <tr>\n",
       "      <th>4</th>\n",
       "      <td>장현승 얘도 참 이젠 짠하다...</td>\n",
       "      <td>0</td>\n",
       "    </tr>\n",
       "    <tr>\n",
       "      <th>...</th>\n",
       "      <td>...</td>\n",
       "      <td>...</td>\n",
       "    </tr>\n",
       "    <tr>\n",
       "      <th>969</th>\n",
       "      <td>대박 게스트... 꼭 봐야징~ 컨셉이 바뀌니깐 재미지넹</td>\n",
       "      <td>0</td>\n",
       "    </tr>\n",
       "    <tr>\n",
       "      <th>970</th>\n",
       "      <td>성형으로 다 뜯어고쳐놓고 예쁜척. 성형 전 니 얼굴 다 알고있다. 순자처럼 된장냄새...</td>\n",
       "      <td>1</td>\n",
       "    </tr>\n",
       "    <tr>\n",
       "      <th>971</th>\n",
       "      <td>분위기는 비슷하다만 전혀다른 전개던데 무슨ㅋㅋㄱ 우리나라사람들은 분위기만 비슷하면 ...</td>\n",
       "      <td>0</td>\n",
       "    </tr>\n",
       "    <tr>\n",
       "      <th>972</th>\n",
       "      <td>입에 손가릭이 10개 있으니 징그럽다</td>\n",
       "      <td>1</td>\n",
       "    </tr>\n",
       "    <tr>\n",
       "      <th>973</th>\n",
       "      <td>난 조보아 이뻐서 보는데 백종원 관심무</td>\n",
       "      <td>0</td>\n",
       "    </tr>\n",
       "  </tbody>\n",
       "</table>\n",
       "<p>974 rows × 2 columns</p>\n",
       "</div>"
      ],
      "text/plain": [
       "                                              comments  hate_prediction\n",
       "0         ㅋㅋㅋㅋ 그래도 조아해주는 팬들 많아서 좋겠다 ㅠㅠ 니들은 온유가 안만져줌 ㅠㅠ                1\n",
       "1                                        둘다 넘 좋다~행복하세요                0\n",
       "2                 근데 만원이하는 현금결제만 하라고 써놓은집 우리나라에 엄청 많은데                1\n",
       "3                원곡생각하나도 안나고 러블리즈 신곡나온줄!!! 너무 예쁘게 잘봤어요                0\n",
       "4                                   장현승 얘도 참 이젠 짠하다...                0\n",
       "..                                                 ...              ...\n",
       "969                     대박 게스트... 꼭 봐야징~ 컨셉이 바뀌니깐 재미지넹                0\n",
       "970  성형으로 다 뜯어고쳐놓고 예쁜척. 성형 전 니 얼굴 다 알고있다. 순자처럼 된장냄새...                1\n",
       "971  분위기는 비슷하다만 전혀다른 전개던데 무슨ㅋㅋㄱ 우리나라사람들은 분위기만 비슷하면 ...                0\n",
       "972                               입에 손가릭이 10개 있으니 징그럽다                1\n",
       "973                              난 조보아 이뻐서 보는데 백종원 관심무                0\n",
       "\n",
       "[974 rows x 2 columns]"
      ]
     },
     "execution_count": 12,
     "metadata": {},
     "output_type": "execute_result"
    }
   ],
   "source": [
    "detect.test_model(batch_size=128)"
   ]
  },
  {
   "cell_type": "code",
   "execution_count": 31,
   "id": "7d0dce8f-f489-4410-9915-95fe5d581d2d",
   "metadata": {},
   "outputs": [
    {
     "name": "stdout",
     "output_type": "stream",
     "text": [
      "[1]\n"
     ]
    }
   ],
   "source": [
    "sentence = \"푸틴한테는 한마디도 못하는 역겨운 거지나라 합정공주년\"\n",
    "print(detect.predict(sentence))"
   ]
  },
  {
   "cell_type": "code",
   "execution_count": 32,
   "id": "6cad7b4b-7bad-417c-9323-e6f3d78ca8cb",
   "metadata": {},
   "outputs": [
    {
     "name": "stdout",
     "output_type": "stream",
     "text": [
      "[0]\n"
     ]
    }
   ],
   "source": [
    "sentence_ = \"강아지와 개새끼의 차이가 뭔가요\"\n",
    "print(detect.predict(sentence_))"
   ]
  },
  {
   "cell_type": "code",
   "execution_count": 13,
   "id": "e277df4b-6d18-49ce-9e56-ce39083b6a31",
   "metadata": {},
   "outputs": [
    {
     "data": {
      "image/png": "[encoded data removed]",
      "text/plain": [
       "<Figure size 720x360 with 2 Axes>"
      ]
     },
     "metadata": {
      "needs_background": "light"
     },
     "output_type": "display_data"
    }
   ],
   "source": [
    "detect.plot_history()"
   ]
  },
  {
   "cell_type": "markdown",
   "id": "a52a6612-9e32-4bd9-9d83-f99fea7ab8d8",
   "metadata": {},
   "source": [
    "# 악성 댓글 탐지 with kyKim/Bert-kor"
   ]
  },
  {
   "cell_type": "code",
   "execution_count": 14,
   "id": "c6d82707-4c4f-4f65-82ec-5764d476a6c7",
   "metadata": {},
   "outputs": [
    {
     "name": "stderr",
     "output_type": "stream",
     "text": [
      "100%|█████████████████████████████████████| 7896/7896 [00:01<00:00, 6977.37it/s]\n",
      "100%|███████████████████████████████████████| 471/471 [00:00<00:00, 6587.78it/s]\n",
      "100%|███████████████████████████████████████| 974/974 [00:00<00:00, 6693.05it/s]\n",
      "All model checkpoint layers were used when initializing TFBertModel.\n",
      "\n",
      "All the layers of TFBertModel were initialized from the model checkpoint at kykim/bert-kor-base.\n",
      "If your task is similar to the task the model of the checkpoint was trained on, you can already use TFBertModel for predictions without further training.\n"
     ]
    },
    {
     "name": "stdout",
     "output_type": "stream",
     "text": [
      "Epoch 1/10\n"
     ]
    },
    {
     "name": "stderr",
     "output_type": "stream",
     "text": [
      "2022-04-08 19:26:07.636403: I tensorflow/core/grappler/optimizers/custom_graph_optimizer_registry.cc:113] Plugin optimizer for device_type GPU is enabled.\n"
     ]
    },
    {
     "name": "stdout",
     "output_type": "stream",
     "text": [
      "62/62 [==============================] - ETA: 0s - loss: 0.6670 - accuracy: 0.6212"
     ]
    },
    {
     "name": "stderr",
     "output_type": "stream",
     "text": [
      "2022-04-08 19:27:19.950277: I tensorflow/core/grappler/optimizers/custom_graph_optimizer_registry.cc:113] Plugin optimizer for device_type GPU is enabled.\n"
     ]
    },
    {
     "name": "stdout",
     "output_type": "stream",
     "text": [
      "\n",
      "Epoch 1: val_accuracy improved from -inf to 0.76645, saving model to hate/kykim/bert-kor-base/cp.ckpt\n",
      "62/62 [==============================] - 88s 1s/step - loss: 0.6670 - accuracy: 0.6212 - val_loss: 0.5015 - val_accuracy: 0.7665\n",
      "Epoch 2/10\n",
      "62/62 [==============================] - ETA: 0s - loss: 0.5127 - accuracy: 0.7440\n",
      "Epoch 2: val_accuracy improved from 0.76645 to 0.78344, saving model to hate/kykim/bert-kor-base/cp.ckpt\n",
      "62/62 [==============================] - 58s 931ms/step - loss: 0.5127 - accuracy: 0.7440 - val_loss: 0.4640 - val_accuracy: 0.7834\n",
      "Epoch 3/10\n",
      "62/62 [==============================] - ETA: 0s - loss: 0.4332 - accuracy: 0.7956\n",
      "Epoch 3: val_accuracy did not improve from 0.78344\n",
      "62/62 [==============================] - 54s 873ms/step - loss: 0.4332 - accuracy: 0.7956 - val_loss: 0.6144 - val_accuracy: 0.6985\n",
      "Epoch 4/10\n",
      "62/62 [==============================] - ETA: 0s - loss: 0.3407 - accuracy: 0.8470\n",
      "Epoch 4: val_accuracy did not improve from 0.78344\n",
      "62/62 [==============================] - 54s 871ms/step - loss: 0.3407 - accuracy: 0.8470 - val_loss: 0.5876 - val_accuracy: 0.7473\n",
      "Epoch 5/10\n",
      "62/62 [==============================] - ETA: 0s - loss: 0.2193 - accuracy: 0.9121\n",
      "Epoch 5: val_accuracy did not improve from 0.78344\n",
      "62/62 [==============================] - 54s 865ms/step - loss: 0.2193 - accuracy: 0.9121 - val_loss: 0.8531 - val_accuracy: 0.7049\n",
      "Epoch 6/10\n",
      "62/62 [==============================] - ETA: 0s - loss: 0.1381 - accuracy: 0.9458\n",
      "Epoch 6: val_accuracy did not improve from 0.78344\n",
      "62/62 [==============================] - 54s 861ms/step - loss: 0.1381 - accuracy: 0.9458 - val_loss: 0.7495 - val_accuracy: 0.7580\n",
      "Epoch 7/10\n",
      "62/62 [==============================] - ETA: 0s - loss: 0.0848 - accuracy: 0.9687\n",
      "Epoch 7: val_accuracy did not improve from 0.78344\n",
      "62/62 [==============================] - 54s 864ms/step - loss: 0.0848 - accuracy: 0.9687 - val_loss: 0.9559 - val_accuracy: 0.7580\n",
      "Epoch 8/10\n",
      "62/62 [==============================] - ETA: 0s - loss: 0.0692 - accuracy: 0.9738\n",
      "Epoch 8: val_accuracy did not improve from 0.78344\n",
      "62/62 [==============================] - 54s 862ms/step - loss: 0.0692 - accuracy: 0.9738 - val_loss: 1.0483 - val_accuracy: 0.7495\n",
      "Epoch 9/10\n",
      "62/62 [==============================] - ETA: 0s - loss: 0.0488 - accuracy: 0.9823\n",
      "Epoch 9: val_accuracy did not improve from 0.78344\n",
      "62/62 [==============================] - 53s 859ms/step - loss: 0.0488 - accuracy: 0.9823 - val_loss: 0.9868 - val_accuracy: 0.7601\n",
      "Epoch 10/10\n",
      "62/62 [==============================] - ETA: 0s - loss: 0.0406 - accuracy: 0.9845\n",
      "Epoch 10: val_accuracy did not improve from 0.78344\n",
      "62/62 [==============================] - 53s 859ms/step - loss: 0.0406 - accuracy: 0.9845 - val_loss: 1.2444 - val_accuracy: 0.7346\n"
     ]
    }
   ],
   "source": [
    "detect_ = Detect_hate_comments(target=target[0], \n",
    "                               model_name=model_name[1], \n",
    "                               dir_path=dir_path[1])\n",
    "detect_.train_model(epochs=10, batch_size=128)"
   ]
  },
  {
   "cell_type": "code",
   "execution_count": 15,
   "id": "377e9e8d-03cd-4d14-a217-4cf5d6354cc1",
   "metadata": {},
   "outputs": [
    {
     "name": "stderr",
     "output_type": "stream",
     "text": [
      "2022-04-08 19:35:41.170234: I tensorflow/core/grappler/optimizers/custom_graph_optimizer_registry.cc:113] Plugin optimizer for device_type GPU is enabled.\n"
     ]
    },
    {
     "name": "stdout",
     "output_type": "stream",
     "text": [
      "0.7834394904458599 0.8210526315789475\n",
      "              precision    recall  f1-score   support\n",
      "\n",
      "           0       0.64      0.84      0.73       160\n",
      "           1       0.90      0.75      0.82       311\n",
      "\n",
      "    accuracy                           0.78       471\n",
      "   macro avg       0.77      0.80      0.77       471\n",
      "weighted avg       0.81      0.78      0.79       471\n",
      "\n"
     ]
    }
   ],
   "source": [
    "acc, f1, cls_report = detect_.evaluation(batch_size=128)\n",
    "print(acc, f1)\n",
    "print(cls_report)"
   ]
  },
  {
   "cell_type": "code",
   "execution_count": 16,
   "id": "188eb050-6783-4c4e-a85e-e35781c8c99b",
   "metadata": {},
   "outputs": [
    {
     "data": {
      "text/html": [
       "<div>\n",
       "<style scoped>\n",
       "    .dataframe tbody tr th:only-of-type {\n",
       "        vertical-align: middle;\n",
       "    }\n",
       "\n",
       "    .dataframe tbody tr th {\n",
       "        vertical-align: top;\n",
       "    }\n",
       "\n",
       "    .dataframe thead th {\n",
       "        text-align: right;\n",
       "    }\n",
       "</style>\n",
       "<table border=\"1\" class=\"dataframe\">\n",
       "  <thead>\n",
       "    <tr style=\"text-align: right;\">\n",
       "      <th></th>\n",
       "      <th>comments</th>\n",
       "      <th>hate_prediction</th>\n",
       "    </tr>\n",
       "  </thead>\n",
       "  <tbody>\n",
       "    <tr>\n",
       "      <th>0</th>\n",
       "      <td>ㅋㅋㅋㅋ 그래도 조아해주는 팬들 많아서 좋겠다 ㅠㅠ 니들은 온유가 안만져줌 ㅠㅠ</td>\n",
       "      <td>0</td>\n",
       "    </tr>\n",
       "    <tr>\n",
       "      <th>1</th>\n",
       "      <td>둘다 넘 좋다~행복하세요</td>\n",
       "      <td>0</td>\n",
       "    </tr>\n",
       "    <tr>\n",
       "      <th>2</th>\n",
       "      <td>근데 만원이하는 현금결제만 하라고 써놓은집 우리나라에 엄청 많은데</td>\n",
       "      <td>0</td>\n",
       "    </tr>\n",
       "    <tr>\n",
       "      <th>3</th>\n",
       "      <td>원곡생각하나도 안나고 러블리즈 신곡나온줄!!! 너무 예쁘게 잘봤어요</td>\n",
       "      <td>0</td>\n",
       "    </tr>\n",
       "    <tr>\n",
       "      <th>4</th>\n",
       "      <td>장현승 얘도 참 이젠 짠하다...</td>\n",
       "      <td>0</td>\n",
       "    </tr>\n",
       "    <tr>\n",
       "      <th>...</th>\n",
       "      <td>...</td>\n",
       "      <td>...</td>\n",
       "    </tr>\n",
       "    <tr>\n",
       "      <th>969</th>\n",
       "      <td>대박 게스트... 꼭 봐야징~ 컨셉이 바뀌니깐 재미지넹</td>\n",
       "      <td>0</td>\n",
       "    </tr>\n",
       "    <tr>\n",
       "      <th>970</th>\n",
       "      <td>성형으로 다 뜯어고쳐놓고 예쁜척. 성형 전 니 얼굴 다 알고있다. 순자처럼 된장냄새...</td>\n",
       "      <td>1</td>\n",
       "    </tr>\n",
       "    <tr>\n",
       "      <th>971</th>\n",
       "      <td>분위기는 비슷하다만 전혀다른 전개던데 무슨ㅋㅋㄱ 우리나라사람들은 분위기만 비슷하면 ...</td>\n",
       "      <td>1</td>\n",
       "    </tr>\n",
       "    <tr>\n",
       "      <th>972</th>\n",
       "      <td>입에 손가릭이 10개 있으니 징그럽다</td>\n",
       "      <td>1</td>\n",
       "    </tr>\n",
       "    <tr>\n",
       "      <th>973</th>\n",
       "      <td>난 조보아 이뻐서 보는데 백종원 관심무</td>\n",
       "      <td>0</td>\n",
       "    </tr>\n",
       "  </tbody>\n",
       "</table>\n",
       "<p>974 rows × 2 columns</p>\n",
       "</div>"
      ],
      "text/plain": [
       "                                              comments  hate_prediction\n",
       "0         ㅋㅋㅋㅋ 그래도 조아해주는 팬들 많아서 좋겠다 ㅠㅠ 니들은 온유가 안만져줌 ㅠㅠ                0\n",
       "1                                        둘다 넘 좋다~행복하세요                0\n",
       "2                 근데 만원이하는 현금결제만 하라고 써놓은집 우리나라에 엄청 많은데                0\n",
       "3                원곡생각하나도 안나고 러블리즈 신곡나온줄!!! 너무 예쁘게 잘봤어요                0\n",
       "4                                   장현승 얘도 참 이젠 짠하다...                0\n",
       "..                                                 ...              ...\n",
       "969                     대박 게스트... 꼭 봐야징~ 컨셉이 바뀌니깐 재미지넹                0\n",
       "970  성형으로 다 뜯어고쳐놓고 예쁜척. 성형 전 니 얼굴 다 알고있다. 순자처럼 된장냄새...                1\n",
       "971  분위기는 비슷하다만 전혀다른 전개던데 무슨ㅋㅋㄱ 우리나라사람들은 분위기만 비슷하면 ...                1\n",
       "972                               입에 손가릭이 10개 있으니 징그럽다                1\n",
       "973                              난 조보아 이뻐서 보는데 백종원 관심무                0\n",
       "\n",
       "[974 rows x 2 columns]"
      ]
     },
     "execution_count": 16,
     "metadata": {},
     "output_type": "execute_result"
    }
   ],
   "source": [
    "detect_.test_model(batch_size=128)"
   ]
  },
  {
   "cell_type": "code",
   "execution_count": 25,
   "id": "30f54457-1493-44cd-9ef8-c528e0c3adb0",
   "metadata": {},
   "outputs": [
    {
     "name": "stdout",
     "output_type": "stream",
     "text": [
      "[1]\n"
     ]
    }
   ],
   "source": [
    "print(detect_.predict(sentence))"
   ]
  },
  {
   "cell_type": "code",
   "execution_count": 33,
   "id": "bae6ccac-793f-4c80-ad45-5c67d9ef37aa",
   "metadata": {},
   "outputs": [
    {
     "name": "stdout",
     "output_type": "stream",
     "text": [
      "[1]\n"
     ]
    }
   ],
   "source": [
    "sentence_ = \"강아지와 개새끼의 차이가 뭔가요\"\n",
    "print(detect_.predict(sentence_))"
   ]
  },
  {
   "cell_type": "code",
   "execution_count": 17,
   "id": "e86cc685-58af-4691-8071-e1977430dc4e",
   "metadata": {},
   "outputs": [
    {
     "data": {
      "image/png": "[encoded data removed]",
      "text/plain": [
       "<Figure size 720x360 with 2 Axes>"
      ]
     },
     "metadata": {
      "needs_background": "light"
     },
     "output_type": "display_data"
    }
   ],
   "source": [
    "detect_.plot_history()"
   ]
  },
  {
   "cell_type": "markdown",
   "id": "60433da9-e99c-4af0-b809-da38662b3eea",
   "metadata": {},
   "source": [
    "# 성차별/혐오 댓글 탐지 with Bert-base-multilingual"
   ]
  },
  {
   "cell_type": "code",
   "execution_count": 18,
   "id": "b337b1d9-4569-4ff2-863a-80e1786e3e79",
   "metadata": {},
   "outputs": [
    {
     "name": "stderr",
     "output_type": "stream",
     "text": [
      "100%|█████████████████████████████████████| 7896/7896 [00:01<00:00, 6486.46it/s]\n",
      "100%|███████████████████████████████████████| 471/471 [00:00<00:00, 6445.79it/s]\n",
      "100%|███████████████████████████████████████| 974/974 [00:00<00:00, 6447.39it/s]\n",
      "Some layers from the model checkpoint at bert-base-multilingual-cased were not used when initializing TFBertModel: ['mlm___cls', 'nsp___cls']\n",
      "- This IS expected if you are initializing TFBertModel from the checkpoint of a model trained on another task or with another architecture (e.g. initializing a BertForSequenceClassification model from a BertForPreTraining model).\n",
      "- This IS NOT expected if you are initializing TFBertModel from the checkpoint of a model that you expect to be exactly identical (initializing a BertForSequenceClassification model from a BertForSequenceClassification model).\n",
      "All the layers of TFBertModel were initialized from the model checkpoint at bert-base-multilingual-cased.\n",
      "If your task is similar to the task the model of the checkpoint was trained on, you can already use TFBertModel for predictions without further training.\n"
     ]
    },
    {
     "name": "stdout",
     "output_type": "stream",
     "text": [
      "Epoch 1/10\n"
     ]
    },
    {
     "name": "stderr",
     "output_type": "stream",
     "text": [
      "2022-04-08 19:36:07.084652: I tensorflow/core/grappler/optimizers/custom_graph_optimizer_registry.cc:113] Plugin optimizer for device_type GPU is enabled.\n"
     ]
    },
    {
     "name": "stdout",
     "output_type": "stream",
     "text": [
      "62/62 [==============================] - ETA: 0s - loss: 0.4030 - accuracy: 0.8475"
     ]
    },
    {
     "name": "stderr",
     "output_type": "stream",
     "text": [
      "2022-04-08 19:37:40.680391: I tensorflow/core/grappler/optimizers/custom_graph_optimizer_registry.cc:113] Plugin optimizer for device_type GPU is enabled.\n"
     ]
    },
    {
     "name": "stdout",
     "output_type": "stream",
     "text": [
      "\n",
      "Epoch 1: val_accuracy improved from -inf to 0.91507, saving model to contain_gender_bias/bert-base-multilingual-cased/cp.ckpt\n",
      "62/62 [==============================] - 113s 1s/step - loss: 0.4030 - accuracy: 0.8475 - val_loss: 0.2939 - val_accuracy: 0.9151\n",
      "Epoch 2/10\n",
      "62/62 [==============================] - ETA: 0s - loss: 0.3119 - accuracy: 0.8922\n",
      "Epoch 2: val_accuracy did not improve from 0.91507\n",
      "62/62 [==============================] - 65s 1s/step - loss: 0.3119 - accuracy: 0.8922 - val_loss: 0.2668 - val_accuracy: 0.9130\n",
      "Epoch 3/10\n",
      "62/62 [==============================] - ETA: 0s - loss: 0.2679 - accuracy: 0.9054\n",
      "Epoch 3: val_accuracy improved from 0.91507 to 0.92357, saving model to contain_gender_bias/bert-base-multilingual-cased/cp.ckpt\n",
      "62/62 [==============================] - 69s 1s/step - loss: 0.2679 - accuracy: 0.9054 - val_loss: 0.2467 - val_accuracy: 0.9236\n",
      "Epoch 4/10\n",
      "62/62 [==============================] - ETA: 0s - loss: 0.2318 - accuracy: 0.9170\n",
      "Epoch 4: val_accuracy did not improve from 0.92357\n",
      "62/62 [==============================] - 65s 1s/step - loss: 0.2318 - accuracy: 0.9170 - val_loss: 0.2385 - val_accuracy: 0.9236\n",
      "Epoch 5/10\n",
      "62/62 [==============================] - ETA: 0s - loss: 0.1783 - accuracy: 0.9369\n",
      "Epoch 5: val_accuracy did not improve from 0.92357\n",
      "62/62 [==============================] - 64s 1s/step - loss: 0.1783 - accuracy: 0.9369 - val_loss: 0.3667 - val_accuracy: 0.8684\n",
      "Epoch 6/10\n",
      "62/62 [==============================] - ETA: 0s - loss: 0.1642 - accuracy: 0.9393\n",
      "Epoch 6: val_accuracy did not improve from 0.92357\n",
      "62/62 [==============================] - 64s 1s/step - loss: 0.1642 - accuracy: 0.9393 - val_loss: 0.2645 - val_accuracy: 0.9214\n",
      "Epoch 7/10\n",
      "62/62 [==============================] - ETA: 0s - loss: 0.1068 - accuracy: 0.9586\n",
      "Epoch 7: val_accuracy did not improve from 0.92357\n",
      "62/62 [==============================] - 64s 1s/step - loss: 0.1068 - accuracy: 0.9586 - val_loss: 0.3659 - val_accuracy: 0.9130\n",
      "Epoch 8/10\n",
      "62/62 [==============================] - ETA: 0s - loss: 0.0742 - accuracy: 0.9732\n",
      "Epoch 8: val_accuracy did not improve from 0.92357\n",
      "62/62 [==============================] - 64s 1s/step - loss: 0.0742 - accuracy: 0.9732 - val_loss: 0.3873 - val_accuracy: 0.9130\n",
      "Epoch 9/10\n",
      "62/62 [==============================] - ETA: 0s - loss: 0.0481 - accuracy: 0.9840\n",
      "Epoch 9: val_accuracy did not improve from 0.92357\n",
      "62/62 [==============================] - 64s 1s/step - loss: 0.0481 - accuracy: 0.9840 - val_loss: 0.3700 - val_accuracy: 0.9108\n",
      "Epoch 10/10\n",
      "62/62 [==============================] - ETA: 0s - loss: 0.0373 - accuracy: 0.9886\n",
      "Epoch 10: val_accuracy did not improve from 0.92357\n",
      "62/62 [==============================] - 64s 1s/step - loss: 0.0373 - accuracy: 0.9886 - val_loss: 0.4544 - val_accuracy: 0.9130\n"
     ]
    }
   ],
   "source": [
    "detect_gender = Detect_hate_comments(target=target[1], \n",
    "                                     model_name=model_name[0], \n",
    "                                     dir_path=dir_path[0])\n",
    "detect_gender.train_model(epochs=10, batch_size=128)"
   ]
  },
  {
   "cell_type": "code",
   "execution_count": 19,
   "id": "130ac3c9-eacb-4b4f-8c49-34cf80558664",
   "metadata": {},
   "outputs": [
    {
     "name": "stderr",
     "output_type": "stream",
     "text": [
      "2022-04-08 19:47:42.049756: I tensorflow/core/grappler/optimizers/custom_graph_optimizer_registry.cc:113] Plugin optimizer for device_type GPU is enabled.\n"
     ]
    },
    {
     "name": "stdout",
     "output_type": "stream",
     "text": [
      "0.9235668789808917 0.6949152542372882\n",
      "              precision    recall  f1-score   support\n",
      "\n",
      "           0       0.94      0.98      0.96       404\n",
      "           1       0.80      0.61      0.69        67\n",
      "\n",
      "    accuracy                           0.92       471\n",
      "   macro avg       0.87      0.79      0.83       471\n",
      "weighted avg       0.92      0.92      0.92       471\n",
      "\n"
     ]
    }
   ],
   "source": [
    "acc, f1, cls_report = detect_gender.evaluation(batch_size=128)\n",
    "print(acc, f1)\n",
    "print(cls_report)"
   ]
  },
  {
   "cell_type": "code",
   "execution_count": 20,
   "id": "7d1dfbde-255e-4e2e-a1e6-795e99f75c96",
   "metadata": {},
   "outputs": [
    {
     "data": {
      "text/html": [
       "<div>\n",
       "<style scoped>\n",
       "    .dataframe tbody tr th:only-of-type {\n",
       "        vertical-align: middle;\n",
       "    }\n",
       "\n",
       "    .dataframe tbody tr th {\n",
       "        vertical-align: top;\n",
       "    }\n",
       "\n",
       "    .dataframe thead th {\n",
       "        text-align: right;\n",
       "    }\n",
       "</style>\n",
       "<table border=\"1\" class=\"dataframe\">\n",
       "  <thead>\n",
       "    <tr style=\"text-align: right;\">\n",
       "      <th></th>\n",
       "      <th>comments</th>\n",
       "      <th>contain_gender_bias_prediction</th>\n",
       "    </tr>\n",
       "  </thead>\n",
       "  <tbody>\n",
       "    <tr>\n",
       "      <th>0</th>\n",
       "      <td>ㅋㅋㅋㅋ 그래도 조아해주는 팬들 많아서 좋겠다 ㅠㅠ 니들은 온유가 안만져줌 ㅠㅠ</td>\n",
       "      <td>0</td>\n",
       "    </tr>\n",
       "    <tr>\n",
       "      <th>1</th>\n",
       "      <td>둘다 넘 좋다~행복하세요</td>\n",
       "      <td>0</td>\n",
       "    </tr>\n",
       "    <tr>\n",
       "      <th>2</th>\n",
       "      <td>근데 만원이하는 현금결제만 하라고 써놓은집 우리나라에 엄청 많은데</td>\n",
       "      <td>0</td>\n",
       "    </tr>\n",
       "    <tr>\n",
       "      <th>3</th>\n",
       "      <td>원곡생각하나도 안나고 러블리즈 신곡나온줄!!! 너무 예쁘게 잘봤어요</td>\n",
       "      <td>0</td>\n",
       "    </tr>\n",
       "    <tr>\n",
       "      <th>4</th>\n",
       "      <td>장현승 얘도 참 이젠 짠하다...</td>\n",
       "      <td>0</td>\n",
       "    </tr>\n",
       "    <tr>\n",
       "      <th>...</th>\n",
       "      <td>...</td>\n",
       "      <td>...</td>\n",
       "    </tr>\n",
       "    <tr>\n",
       "      <th>969</th>\n",
       "      <td>대박 게스트... 꼭 봐야징~ 컨셉이 바뀌니깐 재미지넹</td>\n",
       "      <td>0</td>\n",
       "    </tr>\n",
       "    <tr>\n",
       "      <th>970</th>\n",
       "      <td>성형으로 다 뜯어고쳐놓고 예쁜척. 성형 전 니 얼굴 다 알고있다. 순자처럼 된장냄새...</td>\n",
       "      <td>1</td>\n",
       "    </tr>\n",
       "    <tr>\n",
       "      <th>971</th>\n",
       "      <td>분위기는 비슷하다만 전혀다른 전개던데 무슨ㅋㅋㄱ 우리나라사람들은 분위기만 비슷하면 ...</td>\n",
       "      <td>0</td>\n",
       "    </tr>\n",
       "    <tr>\n",
       "      <th>972</th>\n",
       "      <td>입에 손가릭이 10개 있으니 징그럽다</td>\n",
       "      <td>0</td>\n",
       "    </tr>\n",
       "    <tr>\n",
       "      <th>973</th>\n",
       "      <td>난 조보아 이뻐서 보는데 백종원 관심무</td>\n",
       "      <td>0</td>\n",
       "    </tr>\n",
       "  </tbody>\n",
       "</table>\n",
       "<p>974 rows × 2 columns</p>\n",
       "</div>"
      ],
      "text/plain": [
       "                                              comments  \\\n",
       "0         ㅋㅋㅋㅋ 그래도 조아해주는 팬들 많아서 좋겠다 ㅠㅠ 니들은 온유가 안만져줌 ㅠㅠ   \n",
       "1                                        둘다 넘 좋다~행복하세요   \n",
       "2                 근데 만원이하는 현금결제만 하라고 써놓은집 우리나라에 엄청 많은데   \n",
       "3                원곡생각하나도 안나고 러블리즈 신곡나온줄!!! 너무 예쁘게 잘봤어요   \n",
       "4                                   장현승 얘도 참 이젠 짠하다...   \n",
       "..                                                 ...   \n",
       "969                     대박 게스트... 꼭 봐야징~ 컨셉이 바뀌니깐 재미지넹   \n",
       "970  성형으로 다 뜯어고쳐놓고 예쁜척. 성형 전 니 얼굴 다 알고있다. 순자처럼 된장냄새...   \n",
       "971  분위기는 비슷하다만 전혀다른 전개던데 무슨ㅋㅋㄱ 우리나라사람들은 분위기만 비슷하면 ...   \n",
       "972                               입에 손가릭이 10개 있으니 징그럽다   \n",
       "973                              난 조보아 이뻐서 보는데 백종원 관심무   \n",
       "\n",
       "     contain_gender_bias_prediction  \n",
       "0                                 0  \n",
       "1                                 0  \n",
       "2                                 0  \n",
       "3                                 0  \n",
       "4                                 0  \n",
       "..                              ...  \n",
       "969                               0  \n",
       "970                               1  \n",
       "971                               0  \n",
       "972                               0  \n",
       "973                               0  \n",
       "\n",
       "[974 rows x 2 columns]"
      ]
     },
     "execution_count": 20,
     "metadata": {},
     "output_type": "execute_result"
    }
   ],
   "source": [
    "detect_gender.test_model(batch_size=128)"
   ]
  },
  {
   "cell_type": "code",
   "execution_count": 34,
   "id": "1ffe1347-5cf5-4c9e-a9d9-f6ebca457c68",
   "metadata": {},
   "outputs": [
    {
     "name": "stdout",
     "output_type": "stream",
     "text": [
      "[0]\n"
     ]
    }
   ],
   "source": [
    "sentence2 = \"응. 한남충 여기 하나 추가요\"\n",
    "print(detect_gender.predict(sentence2))"
   ]
  },
  {
   "cell_type": "code",
   "execution_count": 35,
   "id": "504dd650-509e-48ad-927a-bdf43e3a4abd",
   "metadata": {},
   "outputs": [
    {
     "name": "stdout",
     "output_type": "stream",
     "text": [
      "[0]\n"
     ]
    }
   ],
   "source": [
    "sentence2_ = \"진짜 여가부 폐지할까요?\"\n",
    "print(detect_gender.predict(sentence2_))"
   ]
  },
  {
   "cell_type": "code",
   "execution_count": 21,
   "id": "b6e54e1e-4a88-412a-8a53-f95c5dd9b0a6",
   "metadata": {},
   "outputs": [
    {
     "data": {
      "image/png": "[encoded data removed]",
      "text/plain": [
       "<Figure size 720x360 with 2 Axes>"
      ]
     },
     "metadata": {
      "needs_background": "light"
     },
     "output_type": "display_data"
    }
   ],
   "source": [
    "detect_gender.plot_history()"
   ]
  },
  {
   "cell_type": "markdown",
   "id": "d3c9df7f-e3c1-492e-8738-3779dfbfd720",
   "metadata": {},
   "source": [
    "# 성차별/혐오 댓글 탐지 with kyKim/Bert-kor"
   ]
  },
  {
   "cell_type": "code",
   "execution_count": 3,
   "id": "c93b163c-5b0b-4b03-9664-e986ece7ea67",
   "metadata": {},
   "outputs": [
    {
     "name": "stderr",
     "output_type": "stream",
     "text": [
      "100%|█████████████████████████████████████| 7896/7896 [00:01<00:00, 6732.02it/s]\n",
      "100%|███████████████████████████████████████| 471/471 [00:00<00:00, 6771.13it/s]\n",
      "100%|███████████████████████████████████████| 974/974 [00:00<00:00, 6884.75it/s]\n",
      "2022-04-08 18:59:02.798111: I tensorflow/core/common_runtime/pluggable_device/pluggable_device_factory.cc:305] Could not identify NUMA node of platform GPU ID 0, defaulting to 0. Your kernel may not have been built with NUMA support.\n",
      "2022-04-08 18:59:02.798227: I tensorflow/core/common_runtime/pluggable_device/pluggable_device_factory.cc:271] Created TensorFlow device (/job:localhost/replica:0/task:0/device:GPU:0 with 0 MB memory) -> physical PluggableDevice (device: 0, name: METAL, pci bus id: <undefined>)\n"
     ]
    },
    {
     "name": "stdout",
     "output_type": "stream",
     "text": [
      "Metal device set to: Apple M1 Max\n"
     ]
    },
    {
     "name": "stderr",
     "output_type": "stream",
     "text": [
      "All model checkpoint layers were used when initializing TFBertModel.\n",
      "\n",
      "All the layers of TFBertModel were initialized from the model checkpoint at kykim/bert-kor-base.\n",
      "If your task is similar to the task the model of the checkpoint was trained on, you can already use TFBertModel for predictions without further training.\n"
     ]
    },
    {
     "name": "stdout",
     "output_type": "stream",
     "text": [
      "Epoch 1/10\n"
     ]
    },
    {
     "name": "stderr",
     "output_type": "stream",
     "text": [
      "2022-04-08 18:59:05.784848: W tensorflow/core/platform/profile_utils/cpu_utils.cc:128] Failed to get CPU frequency: 0 Hz\n",
      "2022-04-08 18:59:12.386009: I tensorflow/core/grappler/optimizers/custom_graph_optimizer_registry.cc:113] Plugin optimizer for device_type GPU is enabled.\n"
     ]
    },
    {
     "name": "stdout",
     "output_type": "stream",
     "text": [
      "62/62 [==============================] - ETA: 0s - loss: 0.4209 - accuracy: 0.8468"
     ]
    },
    {
     "name": "stderr",
     "output_type": "stream",
     "text": [
      "2022-04-08 19:00:09.669451: I tensorflow/core/grappler/optimizers/custom_graph_optimizer_registry.cc:113] Plugin optimizer for device_type GPU is enabled.\n"
     ]
    },
    {
     "name": "stdout",
     "output_type": "stream",
     "text": [
      "\n",
      "Epoch 1: val_accuracy improved from -inf to 0.91720, saving model to contain_gender_bias/kykim/bert-kor-base/cp.ckpt\n",
      "62/62 [==============================] - 71s 964ms/step - loss: 0.4209 - accuracy: 0.8468 - val_loss: 0.2624 - val_accuracy: 0.9172\n",
      "Epoch 2/10\n",
      "62/62 [==============================] - ETA: 0s - loss: 0.2865 - accuracy: 0.8961\n",
      "Epoch 2: val_accuracy did not improve from 0.91720\n",
      "62/62 [==============================] - 54s 852ms/step - loss: 0.2865 - accuracy: 0.8961 - val_loss: 0.2408 - val_accuracy: 0.9151\n",
      "Epoch 3/10\n",
      "62/62 [==============================] - ETA: 0s - loss: 0.2335 - accuracy: 0.9139\n",
      "Epoch 3: val_accuracy improved from 0.91720 to 0.93843, saving model to contain_gender_bias/kykim/bert-kor-base/cp.ckpt\n",
      "62/62 [==============================] - 56s 905ms/step - loss: 0.2335 - accuracy: 0.9139 - val_loss: 0.2164 - val_accuracy: 0.9384\n",
      "Epoch 4/10\n",
      "62/62 [==============================] - ETA: 0s - loss: 0.1685 - accuracy: 0.9383\n",
      "Epoch 4: val_accuracy did not improve from 0.93843\n",
      "62/62 [==============================] - 57s 904ms/step - loss: 0.1685 - accuracy: 0.9383 - val_loss: 0.2799 - val_accuracy: 0.9193\n",
      "Epoch 5/10\n",
      "62/62 [==============================] - ETA: 0s - loss: 0.1251 - accuracy: 0.9554\n",
      "Epoch 5: val_accuracy did not improve from 0.93843\n",
      "62/62 [==============================] - 57s 911ms/step - loss: 0.1251 - accuracy: 0.9554 - val_loss: 0.2625 - val_accuracy: 0.9299\n",
      "Epoch 6/10\n",
      "62/62 [==============================] - ETA: 0s - loss: 0.0790 - accuracy: 0.9718\n",
      "Epoch 6: val_accuracy did not improve from 0.93843\n",
      "62/62 [==============================] - 54s 877ms/step - loss: 0.0790 - accuracy: 0.9718 - val_loss: 0.3098 - val_accuracy: 0.9130\n",
      "Epoch 7/10\n",
      "62/62 [==============================] - ETA: 0s - loss: 0.0438 - accuracy: 0.9839\n",
      "Epoch 7: val_accuracy did not improve from 0.93843\n",
      "62/62 [==============================] - 52s 838ms/step - loss: 0.0438 - accuracy: 0.9839 - val_loss: 0.3536 - val_accuracy: 0.9151\n",
      "Epoch 8/10\n",
      "62/62 [==============================] - ETA: 0s - loss: 0.0441 - accuracy: 0.9843\n",
      "Epoch 8: val_accuracy did not improve from 0.93843\n",
      "62/62 [==============================] - 52s 839ms/step - loss: 0.0441 - accuracy: 0.9843 - val_loss: 0.3709 - val_accuracy: 0.9321\n",
      "Epoch 9/10\n",
      "62/62 [==============================] - ETA: 0s - loss: 0.0284 - accuracy: 0.9892\n",
      "Epoch 9: val_accuracy did not improve from 0.93843\n",
      "62/62 [==============================] - 52s 842ms/step - loss: 0.0284 - accuracy: 0.9892 - val_loss: 0.4815 - val_accuracy: 0.9342\n",
      "Epoch 10/10\n",
      "62/62 [==============================] - ETA: 0s - loss: 0.0159 - accuracy: 0.9939\n",
      "Epoch 10: val_accuracy did not improve from 0.93843\n",
      "62/62 [==============================] - 53s 855ms/step - loss: 0.0159 - accuracy: 0.9939 - val_loss: 0.4665 - val_accuracy: 0.9193\n"
     ]
    }
   ],
   "source": [
    "detect_gender_ = Detect_hate_comments(target=target[1], \n",
    "                                      model_name=model_name[1], \n",
    "                                      dir_path=dir_path[1])\n",
    "detect_gender_.train_model(epochs=10, batch_size=128)"
   ]
  },
  {
   "cell_type": "code",
   "execution_count": 9,
   "id": "33a512c6-7363-484f-b44e-aa26a1b109fc",
   "metadata": {},
   "outputs": [
    {
     "name": "stdout",
     "output_type": "stream",
     "text": [
      "0.9384288747346072 0.7521367521367521\n",
      "              precision    recall  f1-score   support\n",
      "\n",
      "           0       0.95      0.99      0.96       404\n",
      "           1       0.88      0.66      0.75        67\n",
      "\n",
      "    accuracy                           0.94       471\n",
      "   macro avg       0.91      0.82      0.86       471\n",
      "weighted avg       0.94      0.94      0.93       471\n",
      "\n"
     ]
    }
   ],
   "source": [
    "acc, f1, cls_report = detect_gender_.evaluation(batch_size=128)\n",
    "print(acc, f1)\n",
    "print(cls_report)"
   ]
  },
  {
   "cell_type": "code",
   "execution_count": 5,
   "id": "f11c113b-7358-45e9-86a9-b7ade51a6972",
   "metadata": {},
   "outputs": [
    {
     "data": {
      "text/html": [
       "<div>\n",
       "<style scoped>\n",
       "    .dataframe tbody tr th:only-of-type {\n",
       "        vertical-align: middle;\n",
       "    }\n",
       "\n",
       "    .dataframe tbody tr th {\n",
       "        vertical-align: top;\n",
       "    }\n",
       "\n",
       "    .dataframe thead th {\n",
       "        text-align: right;\n",
       "    }\n",
       "</style>\n",
       "<table border=\"1\" class=\"dataframe\">\n",
       "  <thead>\n",
       "    <tr style=\"text-align: right;\">\n",
       "      <th></th>\n",
       "      <th>comments</th>\n",
       "      <th>contain_gender_bias_prediction</th>\n",
       "    </tr>\n",
       "  </thead>\n",
       "  <tbody>\n",
       "    <tr>\n",
       "      <th>0</th>\n",
       "      <td>ㅋㅋㅋㅋ 그래도 조아해주는 팬들 많아서 좋겠다 ㅠㅠ 니들은 온유가 안만져줌 ㅠㅠ</td>\n",
       "      <td>0</td>\n",
       "    </tr>\n",
       "    <tr>\n",
       "      <th>1</th>\n",
       "      <td>둘다 넘 좋다~행복하세요</td>\n",
       "      <td>0</td>\n",
       "    </tr>\n",
       "    <tr>\n",
       "      <th>2</th>\n",
       "      <td>근데 만원이하는 현금결제만 하라고 써놓은집 우리나라에 엄청 많은데</td>\n",
       "      <td>0</td>\n",
       "    </tr>\n",
       "    <tr>\n",
       "      <th>3</th>\n",
       "      <td>원곡생각하나도 안나고 러블리즈 신곡나온줄!!! 너무 예쁘게 잘봤어요</td>\n",
       "      <td>0</td>\n",
       "    </tr>\n",
       "    <tr>\n",
       "      <th>4</th>\n",
       "      <td>장현승 얘도 참 이젠 짠하다...</td>\n",
       "      <td>0</td>\n",
       "    </tr>\n",
       "    <tr>\n",
       "      <th>...</th>\n",
       "      <td>...</td>\n",
       "      <td>...</td>\n",
       "    </tr>\n",
       "    <tr>\n",
       "      <th>969</th>\n",
       "      <td>대박 게스트... 꼭 봐야징~ 컨셉이 바뀌니깐 재미지넹</td>\n",
       "      <td>0</td>\n",
       "    </tr>\n",
       "    <tr>\n",
       "      <th>970</th>\n",
       "      <td>성형으로 다 뜯어고쳐놓고 예쁜척. 성형 전 니 얼굴 다 알고있다. 순자처럼 된장냄새...</td>\n",
       "      <td>1</td>\n",
       "    </tr>\n",
       "    <tr>\n",
       "      <th>971</th>\n",
       "      <td>분위기는 비슷하다만 전혀다른 전개던데 무슨ㅋㅋㄱ 우리나라사람들은 분위기만 비슷하면 ...</td>\n",
       "      <td>0</td>\n",
       "    </tr>\n",
       "    <tr>\n",
       "      <th>972</th>\n",
       "      <td>입에 손가릭이 10개 있으니 징그럽다</td>\n",
       "      <td>0</td>\n",
       "    </tr>\n",
       "    <tr>\n",
       "      <th>973</th>\n",
       "      <td>난 조보아 이뻐서 보는데 백종원 관심무</td>\n",
       "      <td>0</td>\n",
       "    </tr>\n",
       "  </tbody>\n",
       "</table>\n",
       "<p>974 rows × 2 columns</p>\n",
       "</div>"
      ],
      "text/plain": [
       "                                              comments  \\\n",
       "0         ㅋㅋㅋㅋ 그래도 조아해주는 팬들 많아서 좋겠다 ㅠㅠ 니들은 온유가 안만져줌 ㅠㅠ   \n",
       "1                                        둘다 넘 좋다~행복하세요   \n",
       "2                 근데 만원이하는 현금결제만 하라고 써놓은집 우리나라에 엄청 많은데   \n",
       "3                원곡생각하나도 안나고 러블리즈 신곡나온줄!!! 너무 예쁘게 잘봤어요   \n",
       "4                                   장현승 얘도 참 이젠 짠하다...   \n",
       "..                                                 ...   \n",
       "969                     대박 게스트... 꼭 봐야징~ 컨셉이 바뀌니깐 재미지넹   \n",
       "970  성형으로 다 뜯어고쳐놓고 예쁜척. 성형 전 니 얼굴 다 알고있다. 순자처럼 된장냄새...   \n",
       "971  분위기는 비슷하다만 전혀다른 전개던데 무슨ㅋㅋㄱ 우리나라사람들은 분위기만 비슷하면 ...   \n",
       "972                               입에 손가릭이 10개 있으니 징그럽다   \n",
       "973                              난 조보아 이뻐서 보는데 백종원 관심무   \n",
       "\n",
       "     contain_gender_bias_prediction  \n",
       "0                                 0  \n",
       "1                                 0  \n",
       "2                                 0  \n",
       "3                                 0  \n",
       "4                                 0  \n",
       "..                              ...  \n",
       "969                               0  \n",
       "970                               1  \n",
       "971                               0  \n",
       "972                               0  \n",
       "973                               0  \n",
       "\n",
       "[974 rows x 2 columns]"
      ]
     },
     "execution_count": 5,
     "metadata": {},
     "output_type": "execute_result"
    }
   ],
   "source": [
    "detect_gender_.test_model(batch_size=128)"
   ]
  },
  {
   "cell_type": "code",
   "execution_count": 36,
   "id": "c354ecf6-ed7e-442f-9d7d-458ca6577bf1",
   "metadata": {},
   "outputs": [
    {
     "name": "stdout",
     "output_type": "stream",
     "text": [
      "[1]\n"
     ]
    }
   ],
   "source": [
    "print(detect_gender_.predict(sentence2))"
   ]
  },
  {
   "cell_type": "code",
   "execution_count": 37,
   "id": "26b9bb62-103e-4a1c-aac0-bd51896c699a",
   "metadata": {},
   "outputs": [
    {
     "name": "stdout",
     "output_type": "stream",
     "text": [
      "[0]\n"
     ]
    }
   ],
   "source": [
    "print(detect_gender_.predict(sentence2_))"
   ]
  },
  {
   "cell_type": "code",
   "execution_count": 6,
   "id": "ea368172-0144-498d-9358-300e3a94c573",
   "metadata": {},
   "outputs": [
    {
     "data": {
      "image/png": "[encoded data removed]",
      "text/plain": [
       "<Figure size 720x360 with 2 Axes>"
      ]
     },
     "metadata": {
      "needs_background": "light"
     },
     "output_type": "display_data"
    }
   ],
   "source": [
    "detect_gender_.plot_history()"
   ]
  },
  {
   "cell_type": "code",
   "execution_count": null,
   "id": "b90bcfd0-640a-44d9-8875-deafc48c1ff6",
   "metadata": {},
   "outputs": [],
   "source": []
  }
 ],
 "metadata": {
  "kernelspec": {
   "display_name": "Python 3 (ipykernel)",
   "language": "python",
   "name": "python3"
  },
  "language_info": {
   "codemirror_mode": {
    "name": "ipython",
    "version": 3
   },
   "file_extension": ".py",
   "mimetype": "text/x-python",
   "name": "python",
   "nbconvert_exporter": "python",
   "pygments_lexer": "ipython3",
   "version": "3.8.13"
  }
 },
 "nbformat": 4,
 "nbformat_minor": 5
}
