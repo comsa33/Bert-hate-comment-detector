{
 "cells": [
  {
   "cell_type": "code",
   "execution_count": 1,
   "id": "f401c28a-6421-48db-94f1-5865da5315db",
   "metadata": {},
   "outputs": [],
   "source": [
    "from preprocess import Preprocess_with_bert\n",
    "from run import Detect_hate_comments\n",
    "import warnings\n",
    "warnings.filterwarnings('ignore')"
   ]
  },
  {
   "cell_type": "code",
   "execution_count": 2,
   "id": "acb33e3f-3e04-422c-8ee9-63fcc612c275",
   "metadata": {},
   "outputs": [],
   "source": [
    "target = ['hate', 'contain_gender_bias']\n",
    "model_name = ['bert-base-multilingual-cased', 'kykim/bert-kor-base']\n",
    "dir_path = ['bert-ckpt', 'kor-bert-ckpt']"
   ]
  },
  {
   "cell_type": "markdown",
   "id": "5c2ec3b0-686f-4259-86a0-0baf62a04996",
   "metadata": {},
   "source": [
    "# 악성 댓글 탐지 with Bert-base-multilingual"
   ]
  },
  {
   "cell_type": "code",
   "execution_count": 3,
   "id": "06681b22-e770-49bf-9ed4-a88418474c43",
   "metadata": {},
   "outputs": [
    {
     "name": "stderr",
     "output_type": "stream",
     "text": [
      "100%|█████████████████████████████████████| 7896/7896 [00:01<00:00, 6448.30it/s]\n",
      "100%|███████████████████████████████████████| 471/471 [00:00<00:00, 6313.15it/s]\n",
      "100%|███████████████████████████████████████| 974/974 [00:00<00:00, 6311.52it/s]\n",
      "2022-04-08 18:30:55.001623: I tensorflow/core/common_runtime/pluggable_device/pluggable_device_factory.cc:305] Could not identify NUMA node of platform GPU ID 0, defaulting to 0. Your kernel may not have been built with NUMA support.\n",
      "2022-04-08 18:30:55.001770: I tensorflow/core/common_runtime/pluggable_device/pluggable_device_factory.cc:271] Created TensorFlow device (/job:localhost/replica:0/task:0/device:GPU:0 with 0 MB memory) -> physical PluggableDevice (device: 0, name: METAL, pci bus id: <undefined>)\n"
     ]
    },
    {
     "name": "stdout",
     "output_type": "stream",
     "text": [
      "Metal device set to: Apple M1 Max\n"
     ]
    },
    {
     "name": "stderr",
     "output_type": "stream",
     "text": [
      "Some layers from the model checkpoint at bert-base-multilingual-cased were not used when initializing TFBertModel: ['nsp___cls', 'mlm___cls']\n",
      "- This IS expected if you are initializing TFBertModel from the checkpoint of a model trained on another task or with another architecture (e.g. initializing a BertForSequenceClassification model from a BertForPreTraining model).\n",
      "- This IS NOT expected if you are initializing TFBertModel from the checkpoint of a model that you expect to be exactly identical (initializing a BertForSequenceClassification model from a BertForSequenceClassification model).\n",
      "All the layers of TFBertModel were initialized from the model checkpoint at bert-base-multilingual-cased.\n",
      "If your task is similar to the task the model of the checkpoint was trained on, you can already use TFBertModel for predictions without further training.\n"
     ]
    },
    {
     "name": "stdout",
     "output_type": "stream",
     "text": [
      "PRE-TRAINED MODEL LOAD COMPLETES!\n"
     ]
    }
   ],
   "source": [
    "detect = Detect_hate_comments(target=target[0], \n",
    "                              model_name=model_name[0], \n",
    "                              dir_path=dir_path[0])"
   ]
  },
  {
   "cell_type": "code",
   "execution_count": 6,
   "id": "8d33c0b3-7d06-4041-9808-2aad7eb05c85",
   "metadata": {},
   "outputs": [
    {
     "name": "stdout",
     "output_type": "stream",
     "text": [
      "Epoch 1/2\n"
     ]
    },
    {
     "name": "stderr",
     "output_type": "stream",
     "text": [
      "2022-04-08 18:31:41.611940: I tensorflow/core/grappler/optimizers/custom_graph_optimizer_registry.cc:113] Plugin optimizer for device_type GPU is enabled.\n"
     ]
    },
    {
     "name": "stdout",
     "output_type": "stream",
     "text": [
      "62/62 [==============================] - ETA: 0s - loss: 0.5636 - accuracy: 0.7087"
     ]
    },
    {
     "name": "stderr",
     "output_type": "stream",
     "text": [
      "2022-04-08 18:32:42.658706: I tensorflow/core/grappler/optimizers/custom_graph_optimizer_registry.cc:113] Plugin optimizer for device_type GPU is enabled.\n"
     ]
    },
    {
     "name": "stdout",
     "output_type": "stream",
     "text": [
      "\n",
      "Epoch 1: val_accuracy improved from -inf to 0.74522, saving model to ./hate/bert-base-multilingual-cased/cp.ckpt\n",
      "62/62 [==============================] - 77s 1s/step - loss: 0.5636 - accuracy: 0.7087 - val_loss: 0.5038 - val_accuracy: 0.7452\n",
      "Epoch 2/2\n",
      "62/62 [==============================] - ETA: 0s - loss: 0.4530 - accuracy: 0.7928\n",
      "Epoch 2: val_accuracy did not improve from 0.74522\n",
      "62/62 [==============================] - 56s 883ms/step - loss: 0.4530 - accuracy: 0.7928 - val_loss: 0.5825 - val_accuracy: 0.7240\n"
     ]
    }
   ],
   "source": [
    "detect.train_model(epochs=2, batch_size=128)"
   ]
  },
  {
   "cell_type": "code",
   "execution_count": 7,
   "id": "14b76861-52e9-4134-b941-2d821baf74b8",
   "metadata": {},
   "outputs": [
    {
     "name": "stderr",
     "output_type": "stream",
     "text": [
      "2022-04-08 18:33:50.752095: I tensorflow/core/grappler/optimizers/custom_graph_optimizer_registry.cc:113] Plugin optimizer for device_type GPU is enabled.\n"
     ]
    },
    {
     "data": {
      "text/html": [
       "<div>\n",
       "<style scoped>\n",
       "    .dataframe tbody tr th:only-of-type {\n",
       "        vertical-align: middle;\n",
       "    }\n",
       "\n",
       "    .dataframe tbody tr th {\n",
       "        vertical-align: top;\n",
       "    }\n",
       "\n",
       "    .dataframe thead th {\n",
       "        text-align: right;\n",
       "    }\n",
       "</style>\n",
       "<table border=\"1\" class=\"dataframe\">\n",
       "  <thead>\n",
       "    <tr style=\"text-align: right;\">\n",
       "      <th></th>\n",
       "      <th>comments</th>\n",
       "      <th>hate_prediction</th>\n",
       "    </tr>\n",
       "  </thead>\n",
       "  <tbody>\n",
       "    <tr>\n",
       "      <th>0</th>\n",
       "      <td>ㅋㅋㅋㅋ 그래도 조아해주는 팬들 많아서 좋겠다 ㅠㅠ 니들은 온유가 안만져줌 ㅠㅠ</td>\n",
       "      <td>1</td>\n",
       "    </tr>\n",
       "    <tr>\n",
       "      <th>1</th>\n",
       "      <td>둘다 넘 좋다~행복하세요</td>\n",
       "      <td>0</td>\n",
       "    </tr>\n",
       "    <tr>\n",
       "      <th>2</th>\n",
       "      <td>근데 만원이하는 현금결제만 하라고 써놓은집 우리나라에 엄청 많은데</td>\n",
       "      <td>1</td>\n",
       "    </tr>\n",
       "    <tr>\n",
       "      <th>3</th>\n",
       "      <td>원곡생각하나도 안나고 러블리즈 신곡나온줄!!! 너무 예쁘게 잘봤어요</td>\n",
       "      <td>0</td>\n",
       "    </tr>\n",
       "    <tr>\n",
       "      <th>4</th>\n",
       "      <td>장현승 얘도 참 이젠 짠하다...</td>\n",
       "      <td>0</td>\n",
       "    </tr>\n",
       "    <tr>\n",
       "      <th>...</th>\n",
       "      <td>...</td>\n",
       "      <td>...</td>\n",
       "    </tr>\n",
       "    <tr>\n",
       "      <th>969</th>\n",
       "      <td>대박 게스트... 꼭 봐야징~ 컨셉이 바뀌니깐 재미지넹</td>\n",
       "      <td>0</td>\n",
       "    </tr>\n",
       "    <tr>\n",
       "      <th>970</th>\n",
       "      <td>성형으로 다 뜯어고쳐놓고 예쁜척. 성형 전 니 얼굴 다 알고있다. 순자처럼 된장냄새...</td>\n",
       "      <td>1</td>\n",
       "    </tr>\n",
       "    <tr>\n",
       "      <th>971</th>\n",
       "      <td>분위기는 비슷하다만 전혀다른 전개던데 무슨ㅋㅋㄱ 우리나라사람들은 분위기만 비슷하면 ...</td>\n",
       "      <td>1</td>\n",
       "    </tr>\n",
       "    <tr>\n",
       "      <th>972</th>\n",
       "      <td>입에 손가릭이 10개 있으니 징그럽다</td>\n",
       "      <td>1</td>\n",
       "    </tr>\n",
       "    <tr>\n",
       "      <th>973</th>\n",
       "      <td>난 조보아 이뻐서 보는데 백종원 관심무</td>\n",
       "      <td>0</td>\n",
       "    </tr>\n",
       "  </tbody>\n",
       "</table>\n",
       "<p>974 rows × 2 columns</p>\n",
       "</div>"
      ],
      "text/plain": [
       "                                              comments  hate_prediction\n",
       "0         ㅋㅋㅋㅋ 그래도 조아해주는 팬들 많아서 좋겠다 ㅠㅠ 니들은 온유가 안만져줌 ㅠㅠ                1\n",
       "1                                        둘다 넘 좋다~행복하세요                0\n",
       "2                 근데 만원이하는 현금결제만 하라고 써놓은집 우리나라에 엄청 많은데                1\n",
       "3                원곡생각하나도 안나고 러블리즈 신곡나온줄!!! 너무 예쁘게 잘봤어요                0\n",
       "4                                   장현승 얘도 참 이젠 짠하다...                0\n",
       "..                                                 ...              ...\n",
       "969                     대박 게스트... 꼭 봐야징~ 컨셉이 바뀌니깐 재미지넹                0\n",
       "970  성형으로 다 뜯어고쳐놓고 예쁜척. 성형 전 니 얼굴 다 알고있다. 순자처럼 된장냄새...                1\n",
       "971  분위기는 비슷하다만 전혀다른 전개던데 무슨ㅋㅋㄱ 우리나라사람들은 분위기만 비슷하면 ...                1\n",
       "972                               입에 손가릭이 10개 있으니 징그럽다                1\n",
       "973                              난 조보아 이뻐서 보는데 백종원 관심무                0\n",
       "\n",
       "[974 rows x 2 columns]"
      ]
     },
     "execution_count": 7,
     "metadata": {},
     "output_type": "execute_result"
    }
   ],
   "source": [
    "detect.test_model(batch_size=128)"
   ]
  },
  {
   "cell_type": "code",
   "execution_count": 8,
   "id": "e277df4b-6d18-49ce-9e56-ce39083b6a31",
   "metadata": {},
   "outputs": [
    {
     "data": {
      "image/png": "[encoded data removed]",
      "text/plain": [
       "<Figure size 720x360 with 2 Axes>"
      ]
     },
     "metadata": {
      "needs_background": "light"
     },
     "output_type": "display_data"
    }
   ],
   "source": [
    "detect.plot_history()"
   ]
  },
  {
   "cell_type": "markdown",
   "id": "a52a6612-9e32-4bd9-9d83-f99fea7ab8d8",
   "metadata": {},
   "source": [
    "# 악성 댓글 탐지 with kyKim/Bert-kor"
   ]
  },
  {
   "cell_type": "code",
   "execution_count": null,
   "id": "c6d82707-4c4f-4f65-82ec-5764d476a6c7",
   "metadata": {},
   "outputs": [
    {
     "data": {
      "application/vnd.jupyter.widget-view+json": {
       "model_id": "d23ecf20f599451d9539c64b3ef7df76",
       "version_major": 2,
       "version_minor": 0
      },
      "text/plain": [
       "Downloading:   0%|          | 0.00/336k [00:00<?, ?B/s]"
      ]
     },
     "metadata": {},
     "output_type": "display_data"
    },
    {
     "data": {
      "application/vnd.jupyter.widget-view+json": {
       "model_id": "330873c4be394f1084565547f435f3c2",
       "version_major": 2,
       "version_minor": 0
      },
      "text/plain": [
       "Downloading:   0%|          | 0.00/80.0 [00:00<?, ?B/s]"
      ]
     },
     "metadata": {},
     "output_type": "display_data"
    },
    {
     "data": {
      "application/vnd.jupyter.widget-view+json": {
       "model_id": "cc08ea720b9a4ecdb9bb8db371428715",
       "version_major": 2,
       "version_minor": 0
      },
      "text/plain": [
       "Downloading:   0%|          | 0.00/725 [00:00<?, ?B/s]"
      ]
     },
     "metadata": {},
     "output_type": "display_data"
    },
    {
     "name": "stderr",
     "output_type": "stream",
     "text": [
      "100%|█████████████████████████████████████| 7896/7896 [00:01<00:00, 6873.92it/s]\n",
      "100%|███████████████████████████████████████| 471/471 [00:00<00:00, 6666.36it/s]\n",
      "100%|███████████████████████████████████████| 974/974 [00:00<00:00, 6775.61it/s]\n"
     ]
    },
    {
     "data": {
      "application/vnd.jupyter.widget-view+json": {
       "model_id": "1bbf887fc2564d948fea9abf2c8e9f80",
       "version_major": 2,
       "version_minor": 0
      },
      "text/plain": [
       "Downloading:   0%|          | 0.00/452M [00:00<?, ?B/s]"
      ]
     },
     "metadata": {},
     "output_type": "display_data"
    },
    {
     "name": "stderr",
     "output_type": "stream",
     "text": [
      "All model checkpoint layers were used when initializing TFBertModel.\n",
      "\n",
      "All the layers of TFBertModel were initialized from the model checkpoint at kykim/bert-kor-base.\n",
      "If your task is similar to the task the model of the checkpoint was trained on, you can already use TFBertModel for predictions without further training.\n"
     ]
    },
    {
     "name": "stdout",
     "output_type": "stream",
     "text": [
      "Epoch 1/10\n"
     ]
    },
    {
     "name": "stderr",
     "output_type": "stream",
     "text": [
      "2022-04-08 18:34:36.534787: I tensorflow/core/grappler/optimizers/custom_graph_optimizer_registry.cc:113] Plugin optimizer for device_type GPU is enabled.\n"
     ]
    },
    {
     "name": "stdout",
     "output_type": "stream",
     "text": [
      "62/62 [==============================] - ETA: 0s - loss: 0.6467 - accuracy: 0.6401"
     ]
    },
    {
     "name": "stderr",
     "output_type": "stream",
     "text": [
      "2022-04-08 18:35:44.244915: I tensorflow/core/grappler/optimizers/custom_graph_optimizer_registry.cc:113] Plugin optimizer for device_type GPU is enabled.\n"
     ]
    },
    {
     "name": "stdout",
     "output_type": "stream",
     "text": [
      "\n",
      "Epoch 1: val_accuracy improved from -inf to 0.69851, saving model to ./hate/kykim/bert-kor-base/cp.ckpt\n",
      "62/62 [==============================] - 82s 1s/step - loss: 0.6467 - accuracy: 0.6401 - val_loss: 0.5569 - val_accuracy: 0.6985\n",
      "Epoch 2/10\n",
      "62/62 [==============================] - ETA: 0s - loss: 0.5070 - accuracy: 0.7467\n",
      "Epoch 2: val_accuracy improved from 0.69851 to 0.74735, saving model to ./hate/kykim/bert-kor-base/cp.ckpt\n",
      "62/62 [==============================] - 58s 923ms/step - loss: 0.5070 - accuracy: 0.7467 - val_loss: 0.4750 - val_accuracy: 0.7473\n",
      "Epoch 3/10\n",
      "62/62 [==============================] - ETA: 0s - loss: 0.4237 - accuracy: 0.7994\n",
      "Epoch 3: val_accuracy did not improve from 0.74735\n",
      "62/62 [==============================] - 60s 957ms/step - loss: 0.4237 - accuracy: 0.7994 - val_loss: 0.5835 - val_accuracy: 0.7219\n",
      "Epoch 4/10\n",
      "62/62 [==============================] - ETA: 0s - loss: 0.3202 - accuracy: 0.8620\n",
      "Epoch 4: val_accuracy improved from 0.74735 to 0.76433, saving model to ./hate/kykim/bert-kor-base/cp.ckpt\n",
      "62/62 [==============================] - 67s 1s/step - loss: 0.3202 - accuracy: 0.8620 - val_loss: 0.5603 - val_accuracy: 0.7643\n",
      "Epoch 5/10\n",
      "62/62 [==============================] - ETA: 0s - loss: 0.2202 - accuracy: 0.9092\n",
      "Epoch 5: val_accuracy did not improve from 0.76433\n",
      "62/62 [==============================] - 58s 922ms/step - loss: 0.2202 - accuracy: 0.9092 - val_loss: 0.8930 - val_accuracy: 0.6794\n",
      "Epoch 6/10\n",
      "62/62 [==============================] - ETA: 0s - loss: 0.1534 - accuracy: 0.9398\n",
      "Epoch 6: val_accuracy did not improve from 0.76433\n",
      "62/62 [==============================] - 55s 886ms/step - loss: 0.1534 - accuracy: 0.9398 - val_loss: 0.8571 - val_accuracy: 0.7219\n",
      "Epoch 7/10\n",
      "39/62 [=================>............] - ETA: 19s - loss: 0.0828 - accuracy: 0.9700"
     ]
    }
   ],
   "source": [
    "detect_ = Detect_hate_comments(target=target[0], \n",
    "                               model_name=model_name[1], \n",
    "                               dir_path=dir_path[1])\n",
    "detect_.train_model(epochs=10, batch_size=128)"
   ]
  },
  {
   "cell_type": "code",
   "execution_count": null,
   "id": "188eb050-6783-4c4e-a85e-e35781c8c99b",
   "metadata": {},
   "outputs": [],
   "source": [
    "detect_.test_model(batch_size=128)"
   ]
  },
  {
   "cell_type": "code",
   "execution_count": null,
   "id": "e86cc685-58af-4691-8071-e1977430dc4e",
   "metadata": {},
   "outputs": [],
   "source": [
    "detect_.plot_history()"
   ]
  },
  {
   "cell_type": "markdown",
   "id": "60433da9-e99c-4af0-b809-da38662b3eea",
   "metadata": {},
   "source": [
    "# 성차별/혐오 댓글 탐지 with Bert-base-multilingual"
   ]
  },
  {
   "cell_type": "code",
   "execution_count": null,
   "id": "b337b1d9-4569-4ff2-863a-80e1786e3e79",
   "metadata": {},
   "outputs": [],
   "source": [
    "detect_gender = Detect_hate_comments(target=target[1], \n",
    "                                     model_name=model_name[0], \n",
    "                                     dir_path=dir_path[0])\n",
    "detect_gender.train_model(epochs=10, batch_size=128)"
   ]
  },
  {
   "cell_type": "code",
   "execution_count": null,
   "id": "7d1dfbde-255e-4e2e-a1e6-795e99f75c96",
   "metadata": {},
   "outputs": [],
   "source": [
    "detect_gender.test_model(batch_size=128)"
   ]
  },
  {
   "cell_type": "code",
   "execution_count": null,
   "id": "b6e54e1e-4a88-412a-8a53-f95c5dd9b0a6",
   "metadata": {},
   "outputs": [],
   "source": [
    "detect_gender.plot_history()"
   ]
  },
  {
   "cell_type": "markdown",
   "id": "d3c9df7f-e3c1-492e-8738-3779dfbfd720",
   "metadata": {},
   "source": [
    "# 성차별/혐오 댓글 탐지 with kyKim/Bert-kor"
   ]
  },
  {
   "cell_type": "code",
   "execution_count": null,
   "id": "c93b163c-5b0b-4b03-9664-e986ece7ea67",
   "metadata": {},
   "outputs": [],
   "source": [
    "detect_gender_ = Detect_hate_comments(target=target[1], \n",
    "                                      model_name=model_name[1], \n",
    "                                      dir_path=dir_path[1])\n",
    "detect_gender_.train_model(epochs=10, batch_size=128)"
   ]
  },
  {
   "cell_type": "code",
   "execution_count": null,
   "id": "f11c113b-7358-45e9-86a9-b7ade51a6972",
   "metadata": {},
   "outputs": [],
   "source": [
    "detect_gender_.test_model(batch_size=128)"
   ]
  },
  {
   "cell_type": "code",
   "execution_count": null,
   "id": "ea368172-0144-498d-9358-300e3a94c573",
   "metadata": {},
   "outputs": [],
   "source": [
    "detect_gender_.plot_history()"
   ]
  },
  {
   "cell_type": "code",
   "execution_count": null,
   "id": "b90bcfd0-640a-44d9-8875-deafc48c1ff6",
   "metadata": {},
   "outputs": [],
   "source": []
  }
 ],
 "metadata": {
  "kernelspec": {
   "display_name": "Python 3 (ipykernel)",
   "language": "python",
   "name": "python3"
  },
  "language_info": {
   "codemirror_mode": {
    "name": "ipython",
    "version": 3
   },
   "file_extension": ".py",
   "mimetype": "text/x-python",
   "name": "python",
   "nbconvert_exporter": "python",
   "pygments_lexer": "ipython3",
   "version": "3.8.13"
  }
 },
 "nbformat": 4,
 "nbformat_minor": 5
}
