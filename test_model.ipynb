{
 "cells": [
  {
   "cell_type": "code",
   "execution_count": 1,
   "id": "f401c28a-6421-48db-94f1-5865da5315db",
   "metadata": {},
   "outputs": [],
   "source": [
    "from preprocess import Preprocess_with_bert\n",
    "from run import Detect_hate_comments\n",
    "import warnings\n",
    "warnings.filterwarnings('ignore')"
   ]
  },
  {
   "cell_type": "code",
   "execution_count": 2,
   "id": "acb33e3f-3e04-422c-8ee9-63fcc612c275",
   "metadata": {},
   "outputs": [],
   "source": [
    "target = ['hate', 'contain_gender_bias']\n",
    "model_name = ['bert-base-multilingual-cased', 'kykim/bert-kor-base']\n",
    "dir_path = ['bert-ckpt', 'kor-bert-ckpt']"
   ]
  },
  {
   "cell_type": "code",
   "execution_count": 3,
   "id": "06681b22-e770-49bf-9ed4-a88418474c43",
   "metadata": {},
   "outputs": [
    {
     "name": "stderr",
     "output_type": "stream",
     "text": [
      "100%|█████████████████████████████████████| 7896/7896 [00:01<00:00, 6658.59it/s]\n",
      "100%|███████████████████████████████████████| 471/471 [00:00<00:00, 6380.73it/s]\n",
      "100%|███████████████████████████████████████| 974/974 [00:00<00:00, 6387.38it/s]\n",
      "2022-04-08 18:00:08.933746: I tensorflow/core/common_runtime/pluggable_device/pluggable_device_factory.cc:305] Could not identify NUMA node of platform GPU ID 0, defaulting to 0. Your kernel may not have been built with NUMA support.\n",
      "2022-04-08 18:00:08.933881: I tensorflow/core/common_runtime/pluggable_device/pluggable_device_factory.cc:271] Created TensorFlow device (/job:localhost/replica:0/task:0/device:GPU:0 with 0 MB memory) -> physical PluggableDevice (device: 0, name: METAL, pci bus id: <undefined>)\n"
     ]
    },
    {
     "name": "stdout",
     "output_type": "stream",
     "text": [
      "Metal device set to: Apple M1 Max\n"
     ]
    },
    {
     "name": "stderr",
     "output_type": "stream",
     "text": [
      "Some layers from the model checkpoint at bert-base-multilingual-cased were not used when initializing TFBertModel: ['mlm___cls', 'nsp___cls']\n",
      "- This IS expected if you are initializing TFBertModel from the checkpoint of a model trained on another task or with another architecture (e.g. initializing a BertForSequenceClassification model from a BertForPreTraining model).\n",
      "- This IS NOT expected if you are initializing TFBertModel from the checkpoint of a model that you expect to be exactly identical (initializing a BertForSequenceClassification model from a BertForSequenceClassification model).\n",
      "All the layers of TFBertModel were initialized from the model checkpoint at bert-base-multilingual-cased.\n",
      "If your task is similar to the task the model of the checkpoint was trained on, you can already use TFBertModel for predictions without further training.\n"
     ]
    }
   ],
   "source": [
    "detect = Detect_hate_comments(target=target[0], \n",
    "                              model_name=model_name[0], \n",
    "                              dir_path=dir_path[0])"
   ]
  },
  {
   "cell_type": "code",
   "execution_count": null,
   "id": "8d33c0b3-7d06-4041-9808-2aad7eb05c85",
   "metadata": {},
   "outputs": [
    {
     "name": "stdout",
     "output_type": "stream",
     "text": [
      "Epoch 1/2\n"
     ]
    },
    {
     "name": "stderr",
     "output_type": "stream",
     "text": [
      "2022-04-08 18:01:28.926032: W tensorflow/core/platform/profile_utils/cpu_utils.cc:128] Failed to get CPU frequency: 0 Hz\n",
      "2022-04-08 18:01:35.486690: I tensorflow/core/grappler/optimizers/custom_graph_optimizer_registry.cc:113] Plugin optimizer for device_type GPU is enabled.\n"
     ]
    },
    {
     "name": "stdout",
     "output_type": "stream",
     "text": [
      "247/247 [==============================] - ETA: 0s - loss: 0.6565 - accuracy: 0.6080"
     ]
    },
    {
     "name": "stderr",
     "output_type": "stream",
     "text": [
      "2022-04-08 18:03:03.656892: I tensorflow/core/grappler/optimizers/custom_graph_optimizer_registry.cc:113] Plugin optimizer for device_type GPU is enabled.\n"
     ]
    },
    {
     "name": "stdout",
     "output_type": "stream",
     "text": [
      "\n",
      "Epoch 1: val_accuracy improved from -inf to 0.72824, saving model to ./hate/bert-base-multilingual-cased/cp.ckpt\n",
      "247/247 [==============================] - 104s 375ms/step - loss: 0.6565 - accuracy: 0.6080 - val_loss: 0.5471 - val_accuracy: 0.7282\n",
      "Epoch 2/2\n",
      "179/247 [====================>.........] - ETA: 22s - loss: 0.5821 - accuracy: 0.6981"
     ]
    }
   ],
   "source": [
    "detect.train_model(epochs=10, batch_size=128)"
   ]
  },
  {
   "cell_type": "code",
   "execution_count": null,
   "id": "14b76861-52e9-4134-b941-2d821baf74b8",
   "metadata": {},
   "outputs": [],
   "source": []
  }
 ],
 "metadata": {
  "kernelspec": {
   "display_name": "Python 3 (ipykernel)",
   "language": "python",
   "name": "python3"
  },
  "language_info": {
   "codemirror_mode": {
    "name": "ipython",
    "version": 3
   },
   "file_extension": ".py",
   "mimetype": "text/x-python",
   "name": "python",
   "nbconvert_exporter": "python",
   "pygments_lexer": "ipython3",
   "version": "3.8.13"
  }
 },
 "nbformat": 4,
 "nbformat_minor": 5
}
