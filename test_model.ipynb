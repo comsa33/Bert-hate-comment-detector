{
 "cells": [
  {
   "cell_type": "code",
   "execution_count": 1,
   "id": "f401c28a-6421-48db-94f1-5865da5315db",
   "metadata": {},
   "outputs": [],
   "source": [
    "from preprocess import Preprocess_with_bert\n",
    "from run import Detect_hate_comments\n",
    "import warnings\n",
    "warnings.filterwarnings('ignore')"
   ]
  },
  {
   "cell_type": "code",
   "execution_count": 2,
   "id": "acb33e3f-3e04-422c-8ee9-63fcc612c275",
   "metadata": {},
   "outputs": [],
   "source": [
    "target = ['hate', 'contain_gender_bias']\n",
    "model_name = ['bert-base-multilingual-cased', 'kykim/bert-kor-base']\n",
    "dir_path = ['bert-ckpt', 'kor-bert-ckpt']"
   ]
  },
  {
   "cell_type": "markdown",
   "id": "5c2ec3b0-686f-4259-86a0-0baf62a04996",
   "metadata": {},
   "source": [
    "# 악성 댓글 탐지 with Bert-base-multilingual"
   ]
  },
  {
   "cell_type": "code",
   "execution_count": null,
   "id": "06681b22-e770-49bf-9ed4-a88418474c43",
   "metadata": {},
   "outputs": [
    {
     "name": "stderr",
     "output_type": "stream",
     "text": [
      "100%|█████████████████████████████████████| 7896/7896 [00:01<00:00, 6493.77it/s]\n",
      "100%|███████████████████████████████████████| 471/471 [00:00<00:00, 6393.90it/s]\n",
      "100%|███████████████████████████████████████| 974/974 [00:00<00:00, 6429.55it/s]\n",
      "Some layers from the model checkpoint at bert-base-multilingual-cased were not used when initializing TFBertModel: ['mlm___cls', 'nsp___cls']\n",
      "- This IS expected if you are initializing TFBertModel from the checkpoint of a model trained on another task or with another architecture (e.g. initializing a BertForSequenceClassification model from a BertForPreTraining model).\n",
      "- This IS NOT expected if you are initializing TFBertModel from the checkpoint of a model that you expect to be exactly identical (initializing a BertForSequenceClassification model from a BertForSequenceClassification model).\n",
      "All the layers of TFBertModel were initialized from the model checkpoint at bert-base-multilingual-cased.\n",
      "If your task is similar to the task the model of the checkpoint was trained on, you can already use TFBertModel for predictions without further training.\n"
     ]
    },
    {
     "name": "stdout",
     "output_type": "stream",
     "text": [
      "Epoch 1/10\n"
     ]
    },
    {
     "name": "stderr",
     "output_type": "stream",
     "text": [
      "2022-04-08 19:14:59.447716: I tensorflow/core/grappler/optimizers/custom_graph_optimizer_registry.cc:113] Plugin optimizer for device_type GPU is enabled.\n"
     ]
    },
    {
     "name": "stdout",
     "output_type": "stream",
     "text": [
      " 6/62 [=>............................] - ETA: 1:03 - loss: 0.7021 - accuracy: 0.5625"
     ]
    }
   ],
   "source": [
    "detect = Detect_hate_comments(target=target[0], \n",
    "                              model_name=model_name[0], \n",
    "                              dir_path=dir_path[0])\n",
    "detect.train_model(epochs=10, batch_size=128)"
   ]
  },
  {
   "cell_type": "code",
   "execution_count": null,
   "id": "3521ef30-f20d-4e62-93aa-0556bde6f56d",
   "metadata": {},
   "outputs": [],
   "source": [
    "acc, f1, cls_report = detect.evaluation(batch_size=128)\n",
    "print(acc, f1)\n",
    "print(cls_report)"
   ]
  },
  {
   "cell_type": "code",
   "execution_count": null,
   "id": "14b76861-52e9-4134-b941-2d821baf74b8",
   "metadata": {},
   "outputs": [],
   "source": [
    "detect.test_model(batch_size=128)"
   ]
  },
  {
   "cell_type": "code",
   "execution_count": null,
   "id": "e277df4b-6d18-49ce-9e56-ce39083b6a31",
   "metadata": {},
   "outputs": [],
   "source": [
    "detect.plot_history()"
   ]
  },
  {
   "cell_type": "markdown",
   "id": "a52a6612-9e32-4bd9-9d83-f99fea7ab8d8",
   "metadata": {},
   "source": [
    "# 악성 댓글 탐지 with kyKim/Bert-kor"
   ]
  },
  {
   "cell_type": "code",
   "execution_count": 9,
   "id": "c6d82707-4c4f-4f65-82ec-5764d476a6c7",
   "metadata": {},
   "outputs": [
    {
     "data": {
      "application/vnd.jupyter.widget-view+json": {
       "model_id": "d23ecf20f599451d9539c64b3ef7df76",
       "version_major": 2,
       "version_minor": 0
      },
      "text/plain": [
       "Downloading:   0%|          | 0.00/336k [00:00<?, ?B/s]"
      ]
     },
     "metadata": {},
     "output_type": "display_data"
    },
    {
     "data": {
      "application/vnd.jupyter.widget-view+json": {
       "model_id": "330873c4be394f1084565547f435f3c2",
       "version_major": 2,
       "version_minor": 0
      },
      "text/plain": [
       "Downloading:   0%|          | 0.00/80.0 [00:00<?, ?B/s]"
      ]
     },
     "metadata": {},
     "output_type": "display_data"
    },
    {
     "data": {
      "application/vnd.jupyter.widget-view+json": {
       "model_id": "cc08ea720b9a4ecdb9bb8db371428715",
       "version_major": 2,
       "version_minor": 0
      },
      "text/plain": [
       "Downloading:   0%|          | 0.00/725 [00:00<?, ?B/s]"
      ]
     },
     "metadata": {},
     "output_type": "display_data"
    },
    {
     "name": "stderr",
     "output_type": "stream",
     "text": [
      "100%|█████████████████████████████████████| 7896/7896 [00:01<00:00, 6873.92it/s]\n",
      "100%|███████████████████████████████████████| 471/471 [00:00<00:00, 6666.36it/s]\n",
      "100%|███████████████████████████████████████| 974/974 [00:00<00:00, 6775.61it/s]\n"
     ]
    },
    {
     "data": {
      "application/vnd.jupyter.widget-view+json": {
       "model_id": "1bbf887fc2564d948fea9abf2c8e9f80",
       "version_major": 2,
       "version_minor": 0
      },
      "text/plain": [
       "Downloading:   0%|          | 0.00/452M [00:00<?, ?B/s]"
      ]
     },
     "metadata": {},
     "output_type": "display_data"
    },
    {
     "name": "stderr",
     "output_type": "stream",
     "text": [
      "All model checkpoint layers were used when initializing TFBertModel.\n",
      "\n",
      "All the layers of TFBertModel were initialized from the model checkpoint at kykim/bert-kor-base.\n",
      "If your task is similar to the task the model of the checkpoint was trained on, you can already use TFBertModel for predictions without further training.\n"
     ]
    },
    {
     "name": "stdout",
     "output_type": "stream",
     "text": [
      "Epoch 1/10\n"
     ]
    },
    {
     "name": "stderr",
     "output_type": "stream",
     "text": [
      "2022-04-08 18:34:36.534787: I tensorflow/core/grappler/optimizers/custom_graph_optimizer_registry.cc:113] Plugin optimizer for device_type GPU is enabled.\n"
     ]
    },
    {
     "name": "stdout",
     "output_type": "stream",
     "text": [
      "62/62 [==============================] - ETA: 0s - loss: 0.6467 - accuracy: 0.6401"
     ]
    },
    {
     "name": "stderr",
     "output_type": "stream",
     "text": [
      "2022-04-08 18:35:44.244915: I tensorflow/core/grappler/optimizers/custom_graph_optimizer_registry.cc:113] Plugin optimizer for device_type GPU is enabled.\n"
     ]
    },
    {
     "name": "stdout",
     "output_type": "stream",
     "text": [
      "\n",
      "Epoch 1: val_accuracy improved from -inf to 0.69851, saving model to ./hate/kykim/bert-kor-base/cp.ckpt\n",
      "62/62 [==============================] - 82s 1s/step - loss: 0.6467 - accuracy: 0.6401 - val_loss: 0.5569 - val_accuracy: 0.6985\n",
      "Epoch 2/10\n",
      "62/62 [==============================] - ETA: 0s - loss: 0.5070 - accuracy: 0.7467\n",
      "Epoch 2: val_accuracy improved from 0.69851 to 0.74735, saving model to ./hate/kykim/bert-kor-base/cp.ckpt\n",
      "62/62 [==============================] - 58s 923ms/step - loss: 0.5070 - accuracy: 0.7467 - val_loss: 0.4750 - val_accuracy: 0.7473\n",
      "Epoch 3/10\n",
      "62/62 [==============================] - ETA: 0s - loss: 0.4237 - accuracy: 0.7994\n",
      "Epoch 3: val_accuracy did not improve from 0.74735\n",
      "62/62 [==============================] - 60s 957ms/step - loss: 0.4237 - accuracy: 0.7994 - val_loss: 0.5835 - val_accuracy: 0.7219\n",
      "Epoch 4/10\n",
      "62/62 [==============================] - ETA: 0s - loss: 0.3202 - accuracy: 0.8620\n",
      "Epoch 4: val_accuracy improved from 0.74735 to 0.76433, saving model to ./hate/kykim/bert-kor-base/cp.ckpt\n",
      "62/62 [==============================] - 67s 1s/step - loss: 0.3202 - accuracy: 0.8620 - val_loss: 0.5603 - val_accuracy: 0.7643\n",
      "Epoch 5/10\n",
      "62/62 [==============================] - ETA: 0s - loss: 0.2202 - accuracy: 0.9092\n",
      "Epoch 5: val_accuracy did not improve from 0.76433\n",
      "62/62 [==============================] - 58s 922ms/step - loss: 0.2202 - accuracy: 0.9092 - val_loss: 0.8930 - val_accuracy: 0.6794\n",
      "Epoch 6/10\n",
      "62/62 [==============================] - ETA: 0s - loss: 0.1534 - accuracy: 0.9398\n",
      "Epoch 6: val_accuracy did not improve from 0.76433\n",
      "62/62 [==============================] - 55s 886ms/step - loss: 0.1534 - accuracy: 0.9398 - val_loss: 0.8571 - val_accuracy: 0.7219\n",
      "Epoch 7/10\n",
      "62/62 [==============================] - ETA: 0s - loss: 0.0815 - accuracy: 0.9705\n",
      "Epoch 7: val_accuracy did not improve from 0.76433\n",
      "62/62 [==============================] - 53s 854ms/step - loss: 0.0815 - accuracy: 0.9705 - val_loss: 0.9885 - val_accuracy: 0.7495\n",
      "Epoch 8/10\n",
      "62/62 [==============================] - ETA: 0s - loss: 0.0647 - accuracy: 0.9764\n",
      "Epoch 8: val_accuracy improved from 0.76433 to 0.77282, saving model to ./hate/kykim/bert-kor-base/cp.ckpt\n",
      "62/62 [==============================] - 56s 908ms/step - loss: 0.0647 - accuracy: 0.9764 - val_loss: 0.8430 - val_accuracy: 0.7728\n",
      "Epoch 9/10\n",
      "62/62 [==============================] - ETA: 0s - loss: 0.0509 - accuracy: 0.9801\n",
      "Epoch 9: val_accuracy did not improve from 0.77282\n",
      "62/62 [==============================] - 53s 851ms/step - loss: 0.0509 - accuracy: 0.9801 - val_loss: 1.2125 - val_accuracy: 0.7728\n",
      "Epoch 10/10\n",
      "62/62 [==============================] - ETA: 0s - loss: 0.0547 - accuracy: 0.9797\n",
      "Epoch 10: val_accuracy did not improve from 0.77282\n",
      "62/62 [==============================] - 53s 850ms/step - loss: 0.0547 - accuracy: 0.9797 - val_loss: 1.3815 - val_accuracy: 0.7049\n"
     ]
    }
   ],
   "source": [
    "detect_ = Detect_hate_comments(target=target[0], \n",
    "                               model_name=model_name[1], \n",
    "                               dir_path=dir_path[1])\n",
    "detect_.train_model(epochs=10, batch_size=128)"
   ]
  },
  {
   "cell_type": "code",
   "execution_count": null,
   "id": "377e9e8d-03cd-4d14-a217-4cf5d6354cc1",
   "metadata": {},
   "outputs": [],
   "source": [
    "acc, f1, cls_report = detect_.evaluation(batch_size=128)\n",
    "print(acc, f1)\n",
    "print(cls_report)"
   ]
  },
  {
   "cell_type": "code",
   "execution_count": 10,
   "id": "188eb050-6783-4c4e-a85e-e35781c8c99b",
   "metadata": {},
   "outputs": [
    {
     "name": "stderr",
     "output_type": "stream",
     "text": [
      "2022-04-08 18:44:29.029354: I tensorflow/core/grappler/optimizers/custom_graph_optimizer_registry.cc:113] Plugin optimizer for device_type GPU is enabled.\n"
     ]
    },
    {
     "data": {
      "text/html": [
       "<div>\n",
       "<style scoped>\n",
       "    .dataframe tbody tr th:only-of-type {\n",
       "        vertical-align: middle;\n",
       "    }\n",
       "\n",
       "    .dataframe tbody tr th {\n",
       "        vertical-align: top;\n",
       "    }\n",
       "\n",
       "    .dataframe thead th {\n",
       "        text-align: right;\n",
       "    }\n",
       "</style>\n",
       "<table border=\"1\" class=\"dataframe\">\n",
       "  <thead>\n",
       "    <tr style=\"text-align: right;\">\n",
       "      <th></th>\n",
       "      <th>comments</th>\n",
       "      <th>hate_prediction</th>\n",
       "    </tr>\n",
       "  </thead>\n",
       "  <tbody>\n",
       "    <tr>\n",
       "      <th>0</th>\n",
       "      <td>ㅋㅋㅋㅋ 그래도 조아해주는 팬들 많아서 좋겠다 ㅠㅠ 니들은 온유가 안만져줌 ㅠㅠ</td>\n",
       "      <td>1</td>\n",
       "    </tr>\n",
       "    <tr>\n",
       "      <th>1</th>\n",
       "      <td>둘다 넘 좋다~행복하세요</td>\n",
       "      <td>0</td>\n",
       "    </tr>\n",
       "    <tr>\n",
       "      <th>2</th>\n",
       "      <td>근데 만원이하는 현금결제만 하라고 써놓은집 우리나라에 엄청 많은데</td>\n",
       "      <td>0</td>\n",
       "    </tr>\n",
       "    <tr>\n",
       "      <th>3</th>\n",
       "      <td>원곡생각하나도 안나고 러블리즈 신곡나온줄!!! 너무 예쁘게 잘봤어요</td>\n",
       "      <td>0</td>\n",
       "    </tr>\n",
       "    <tr>\n",
       "      <th>4</th>\n",
       "      <td>장현승 얘도 참 이젠 짠하다...</td>\n",
       "      <td>0</td>\n",
       "    </tr>\n",
       "    <tr>\n",
       "      <th>...</th>\n",
       "      <td>...</td>\n",
       "      <td>...</td>\n",
       "    </tr>\n",
       "    <tr>\n",
       "      <th>969</th>\n",
       "      <td>대박 게스트... 꼭 봐야징~ 컨셉이 바뀌니깐 재미지넹</td>\n",
       "      <td>0</td>\n",
       "    </tr>\n",
       "    <tr>\n",
       "      <th>970</th>\n",
       "      <td>성형으로 다 뜯어고쳐놓고 예쁜척. 성형 전 니 얼굴 다 알고있다. 순자처럼 된장냄새...</td>\n",
       "      <td>1</td>\n",
       "    </tr>\n",
       "    <tr>\n",
       "      <th>971</th>\n",
       "      <td>분위기는 비슷하다만 전혀다른 전개던데 무슨ㅋㅋㄱ 우리나라사람들은 분위기만 비슷하면 ...</td>\n",
       "      <td>1</td>\n",
       "    </tr>\n",
       "    <tr>\n",
       "      <th>972</th>\n",
       "      <td>입에 손가릭이 10개 있으니 징그럽다</td>\n",
       "      <td>1</td>\n",
       "    </tr>\n",
       "    <tr>\n",
       "      <th>973</th>\n",
       "      <td>난 조보아 이뻐서 보는데 백종원 관심무</td>\n",
       "      <td>1</td>\n",
       "    </tr>\n",
       "  </tbody>\n",
       "</table>\n",
       "<p>974 rows × 2 columns</p>\n",
       "</div>"
      ],
      "text/plain": [
       "                                              comments  hate_prediction\n",
       "0         ㅋㅋㅋㅋ 그래도 조아해주는 팬들 많아서 좋겠다 ㅠㅠ 니들은 온유가 안만져줌 ㅠㅠ                1\n",
       "1                                        둘다 넘 좋다~행복하세요                0\n",
       "2                 근데 만원이하는 현금결제만 하라고 써놓은집 우리나라에 엄청 많은데                0\n",
       "3                원곡생각하나도 안나고 러블리즈 신곡나온줄!!! 너무 예쁘게 잘봤어요                0\n",
       "4                                   장현승 얘도 참 이젠 짠하다...                0\n",
       "..                                                 ...              ...\n",
       "969                     대박 게스트... 꼭 봐야징~ 컨셉이 바뀌니깐 재미지넹                0\n",
       "970  성형으로 다 뜯어고쳐놓고 예쁜척. 성형 전 니 얼굴 다 알고있다. 순자처럼 된장냄새...                1\n",
       "971  분위기는 비슷하다만 전혀다른 전개던데 무슨ㅋㅋㄱ 우리나라사람들은 분위기만 비슷하면 ...                1\n",
       "972                               입에 손가릭이 10개 있으니 징그럽다                1\n",
       "973                              난 조보아 이뻐서 보는데 백종원 관심무                1\n",
       "\n",
       "[974 rows x 2 columns]"
      ]
     },
     "execution_count": 10,
     "metadata": {},
     "output_type": "execute_result"
    }
   ],
   "source": [
    "detect_.test_model(batch_size=128)"
   ]
  },
  {
   "cell_type": "code",
   "execution_count": 11,
   "id": "e86cc685-58af-4691-8071-e1977430dc4e",
   "metadata": {},
   "outputs": [
    {
     "data": {
      "image/png": "[encoded data removed]",
      "text/plain": [
       "<Figure size 720x360 with 2 Axes>"
      ]
     },
     "metadata": {
      "needs_background": "light"
     },
     "output_type": "display_data"
    }
   ],
   "source": [
    "detect_.plot_history()"
   ]
  },
  {
   "cell_type": "markdown",
   "id": "60433da9-e99c-4af0-b809-da38662b3eea",
   "metadata": {},
   "source": [
    "# 성차별/혐오 댓글 탐지 with Bert-base-multilingual"
   ]
  },
  {
   "cell_type": "code",
   "execution_count": 3,
   "id": "b337b1d9-4569-4ff2-863a-80e1786e3e79",
   "metadata": {},
   "outputs": [
    {
     "name": "stderr",
     "output_type": "stream",
     "text": [
      "100%|█████████████████████████████████████| 7896/7896 [00:01<00:00, 6562.98it/s]\n",
      "100%|███████████████████████████████████████| 471/471 [00:00<00:00, 6311.82it/s]\n",
      "100%|███████████████████████████████████████| 974/974 [00:00<00:00, 6425.01it/s]\n",
      "2022-04-08 18:47:06.761990: I tensorflow/core/common_runtime/pluggable_device/pluggable_device_factory.cc:305] Could not identify NUMA node of platform GPU ID 0, defaulting to 0. Your kernel may not have been built with NUMA support.\n",
      "2022-04-08 18:47:06.762139: I tensorflow/core/common_runtime/pluggable_device/pluggable_device_factory.cc:271] Created TensorFlow device (/job:localhost/replica:0/task:0/device:GPU:0 with 0 MB memory) -> physical PluggableDevice (device: 0, name: METAL, pci bus id: <undefined>)\n"
     ]
    },
    {
     "name": "stdout",
     "output_type": "stream",
     "text": [
      "Metal device set to: Apple M1 Max\n"
     ]
    },
    {
     "name": "stderr",
     "output_type": "stream",
     "text": [
      "Some layers from the model checkpoint at bert-base-multilingual-cased were not used when initializing TFBertModel: ['mlm___cls', 'nsp___cls']\n",
      "- This IS expected if you are initializing TFBertModel from the checkpoint of a model trained on another task or with another architecture (e.g. initializing a BertForSequenceClassification model from a BertForPreTraining model).\n",
      "- This IS NOT expected if you are initializing TFBertModel from the checkpoint of a model that you expect to be exactly identical (initializing a BertForSequenceClassification model from a BertForSequenceClassification model).\n",
      "All the layers of TFBertModel were initialized from the model checkpoint at bert-base-multilingual-cased.\n",
      "If your task is similar to the task the model of the checkpoint was trained on, you can already use TFBertModel for predictions without further training.\n"
     ]
    },
    {
     "name": "stdout",
     "output_type": "stream",
     "text": [
      "Epoch 1/10\n"
     ]
    },
    {
     "name": "stderr",
     "output_type": "stream",
     "text": [
      "2022-04-08 18:47:10.459618: W tensorflow/core/platform/profile_utils/cpu_utils.cc:128] Failed to get CPU frequency: 0 Hz\n",
      "2022-04-08 18:47:17.024407: I tensorflow/core/grappler/optimizers/custom_graph_optimizer_registry.cc:113] Plugin optimizer for device_type GPU is enabled.\n"
     ]
    },
    {
     "name": "stdout",
     "output_type": "stream",
     "text": [
      "62/62 [==============================] - ETA: 0s - loss: 0.3783 - accuracy: 0.8607"
     ]
    },
    {
     "name": "stderr",
     "output_type": "stream",
     "text": [
      "2022-04-08 18:48:16.741969: I tensorflow/core/grappler/optimizers/custom_graph_optimizer_registry.cc:113] Plugin optimizer for device_type GPU is enabled.\n"
     ]
    },
    {
     "name": "stdout",
     "output_type": "stream",
     "text": [
      "\n",
      "Epoch 1: val_accuracy improved from -inf to 0.91295, saving model to contain_gender_bias/bert-base-multilingual-cased/cp.ckpt\n",
      "62/62 [==============================] - 75s 1s/step - loss: 0.3783 - accuracy: 0.8607 - val_loss: 0.2897 - val_accuracy: 0.9130\n",
      "Epoch 2/10\n",
      "62/62 [==============================] - ETA: 0s - loss: 0.3025 - accuracy: 0.8931\n",
      "Epoch 2: val_accuracy did not improve from 0.91295\n",
      "62/62 [==============================] - 56s 884ms/step - loss: 0.3025 - accuracy: 0.8931 - val_loss: 0.2761 - val_accuracy: 0.9108\n",
      "Epoch 3/10\n",
      "62/62 [==============================] - ETA: 0s - loss: 0.2477 - accuracy: 0.9115\n",
      "Epoch 3: val_accuracy improved from 0.91295 to 0.91507, saving model to contain_gender_bias/bert-base-multilingual-cased/cp.ckpt\n",
      "62/62 [==============================] - 60s 959ms/step - loss: 0.2477 - accuracy: 0.9115 - val_loss: 0.2742 - val_accuracy: 0.9151\n",
      "Epoch 4/10\n",
      "62/62 [==============================] - ETA: 0s - loss: 0.1992 - accuracy: 0.9292\n",
      "Epoch 4: val_accuracy improved from 0.91507 to 0.92144, saving model to contain_gender_bias/bert-base-multilingual-cased/cp.ckpt\n",
      "62/62 [==============================] - 60s 963ms/step - loss: 0.1992 - accuracy: 0.9292 - val_loss: 0.2633 - val_accuracy: 0.9214\n",
      "Epoch 5/10\n",
      "62/62 [==============================] - ETA: 0s - loss: 0.1432 - accuracy: 0.9492\n",
      "Epoch 5: val_accuracy did not improve from 0.92144\n",
      "62/62 [==============================] - 56s 883ms/step - loss: 0.1432 - accuracy: 0.9492 - val_loss: 0.3093 - val_accuracy: 0.8917\n",
      "Epoch 6/10\n",
      "62/62 [==============================] - ETA: 0s - loss: 0.0932 - accuracy: 0.9639\n",
      "Epoch 6: val_accuracy did not improve from 0.92144\n",
      "62/62 [==============================] - 55s 879ms/step - loss: 0.0932 - accuracy: 0.9639 - val_loss: 0.3143 - val_accuracy: 0.9193\n",
      "Epoch 7/10\n",
      "62/62 [==============================] - ETA: 0s - loss: 0.0760 - accuracy: 0.9730\n",
      "Epoch 7: val_accuracy did not improve from 0.92144\n",
      "62/62 [==============================] - 55s 884ms/step - loss: 0.0760 - accuracy: 0.9730 - val_loss: 0.3695 - val_accuracy: 0.9130\n",
      "Epoch 8/10\n",
      "62/62 [==============================] - ETA: 0s - loss: 0.0547 - accuracy: 0.9810\n",
      "Epoch 8: val_accuracy did not improve from 0.92144\n",
      "62/62 [==============================] - 55s 876ms/step - loss: 0.0547 - accuracy: 0.9810 - val_loss: 0.3855 - val_accuracy: 0.9214\n",
      "Epoch 9/10\n",
      "62/62 [==============================] - ETA: 0s - loss: 0.0331 - accuracy: 0.9887\n",
      "Epoch 9: val_accuracy did not improve from 0.92144\n",
      "62/62 [==============================] - 55s 885ms/step - loss: 0.0331 - accuracy: 0.9887 - val_loss: 0.4507 - val_accuracy: 0.9193\n",
      "Epoch 10/10\n",
      "62/62 [==============================] - ETA: 0s - loss: 0.0261 - accuracy: 0.9902\n",
      "Epoch 10: val_accuracy did not improve from 0.92144\n",
      "62/62 [==============================] - 55s 888ms/step - loss: 0.0261 - accuracy: 0.9902 - val_loss: 0.4778 - val_accuracy: 0.9066\n"
     ]
    }
   ],
   "source": [
    "detect_gender = Detect_hate_comments(target=target[1], \n",
    "                                     model_name=model_name[0], \n",
    "                                     dir_path=dir_path[0])\n",
    "detect_gender.train_model(epochs=10, batch_size=128)"
   ]
  },
  {
   "cell_type": "code",
   "execution_count": null,
   "id": "130ac3c9-eacb-4b4f-8c49-34cf80558664",
   "metadata": {},
   "outputs": [],
   "source": [
    "acc, f1, cls_report = detect_gender.evaluation(batch_size=128)\n",
    "print(acc, f1)\n",
    "print(cls_report)"
   ]
  },
  {
   "cell_type": "code",
   "execution_count": 4,
   "id": "7d1dfbde-255e-4e2e-a1e6-795e99f75c96",
   "metadata": {},
   "outputs": [
    {
     "name": "stderr",
     "output_type": "stream",
     "text": [
      "2022-04-08 18:56:55.339423: I tensorflow/core/grappler/optimizers/custom_graph_optimizer_registry.cc:113] Plugin optimizer for device_type GPU is enabled.\n"
     ]
    },
    {
     "data": {
      "text/html": [
       "<div>\n",
       "<style scoped>\n",
       "    .dataframe tbody tr th:only-of-type {\n",
       "        vertical-align: middle;\n",
       "    }\n",
       "\n",
       "    .dataframe tbody tr th {\n",
       "        vertical-align: top;\n",
       "    }\n",
       "\n",
       "    .dataframe thead th {\n",
       "        text-align: right;\n",
       "    }\n",
       "</style>\n",
       "<table border=\"1\" class=\"dataframe\">\n",
       "  <thead>\n",
       "    <tr style=\"text-align: right;\">\n",
       "      <th></th>\n",
       "      <th>comments</th>\n",
       "      <th>contain_gender_bias_prediction</th>\n",
       "    </tr>\n",
       "  </thead>\n",
       "  <tbody>\n",
       "    <tr>\n",
       "      <th>0</th>\n",
       "      <td>ㅋㅋㅋㅋ 그래도 조아해주는 팬들 많아서 좋겠다 ㅠㅠ 니들은 온유가 안만져줌 ㅠㅠ</td>\n",
       "      <td>0</td>\n",
       "    </tr>\n",
       "    <tr>\n",
       "      <th>1</th>\n",
       "      <td>둘다 넘 좋다~행복하세요</td>\n",
       "      <td>0</td>\n",
       "    </tr>\n",
       "    <tr>\n",
       "      <th>2</th>\n",
       "      <td>근데 만원이하는 현금결제만 하라고 써놓은집 우리나라에 엄청 많은데</td>\n",
       "      <td>0</td>\n",
       "    </tr>\n",
       "    <tr>\n",
       "      <th>3</th>\n",
       "      <td>원곡생각하나도 안나고 러블리즈 신곡나온줄!!! 너무 예쁘게 잘봤어요</td>\n",
       "      <td>0</td>\n",
       "    </tr>\n",
       "    <tr>\n",
       "      <th>4</th>\n",
       "      <td>장현승 얘도 참 이젠 짠하다...</td>\n",
       "      <td>0</td>\n",
       "    </tr>\n",
       "    <tr>\n",
       "      <th>...</th>\n",
       "      <td>...</td>\n",
       "      <td>...</td>\n",
       "    </tr>\n",
       "    <tr>\n",
       "      <th>969</th>\n",
       "      <td>대박 게스트... 꼭 봐야징~ 컨셉이 바뀌니깐 재미지넹</td>\n",
       "      <td>0</td>\n",
       "    </tr>\n",
       "    <tr>\n",
       "      <th>970</th>\n",
       "      <td>성형으로 다 뜯어고쳐놓고 예쁜척. 성형 전 니 얼굴 다 알고있다. 순자처럼 된장냄새...</td>\n",
       "      <td>0</td>\n",
       "    </tr>\n",
       "    <tr>\n",
       "      <th>971</th>\n",
       "      <td>분위기는 비슷하다만 전혀다른 전개던데 무슨ㅋㅋㄱ 우리나라사람들은 분위기만 비슷하면 ...</td>\n",
       "      <td>0</td>\n",
       "    </tr>\n",
       "    <tr>\n",
       "      <th>972</th>\n",
       "      <td>입에 손가릭이 10개 있으니 징그럽다</td>\n",
       "      <td>0</td>\n",
       "    </tr>\n",
       "    <tr>\n",
       "      <th>973</th>\n",
       "      <td>난 조보아 이뻐서 보는데 백종원 관심무</td>\n",
       "      <td>0</td>\n",
       "    </tr>\n",
       "  </tbody>\n",
       "</table>\n",
       "<p>974 rows × 2 columns</p>\n",
       "</div>"
      ],
      "text/plain": [
       "                                              comments  \\\n",
       "0         ㅋㅋㅋㅋ 그래도 조아해주는 팬들 많아서 좋겠다 ㅠㅠ 니들은 온유가 안만져줌 ㅠㅠ   \n",
       "1                                        둘다 넘 좋다~행복하세요   \n",
       "2                 근데 만원이하는 현금결제만 하라고 써놓은집 우리나라에 엄청 많은데   \n",
       "3                원곡생각하나도 안나고 러블리즈 신곡나온줄!!! 너무 예쁘게 잘봤어요   \n",
       "4                                   장현승 얘도 참 이젠 짠하다...   \n",
       "..                                                 ...   \n",
       "969                     대박 게스트... 꼭 봐야징~ 컨셉이 바뀌니깐 재미지넹   \n",
       "970  성형으로 다 뜯어고쳐놓고 예쁜척. 성형 전 니 얼굴 다 알고있다. 순자처럼 된장냄새...   \n",
       "971  분위기는 비슷하다만 전혀다른 전개던데 무슨ㅋㅋㄱ 우리나라사람들은 분위기만 비슷하면 ...   \n",
       "972                               입에 손가릭이 10개 있으니 징그럽다   \n",
       "973                              난 조보아 이뻐서 보는데 백종원 관심무   \n",
       "\n",
       "     contain_gender_bias_prediction  \n",
       "0                                 0  \n",
       "1                                 0  \n",
       "2                                 0  \n",
       "3                                 0  \n",
       "4                                 0  \n",
       "..                              ...  \n",
       "969                               0  \n",
       "970                               0  \n",
       "971                               0  \n",
       "972                               0  \n",
       "973                               0  \n",
       "\n",
       "[974 rows x 2 columns]"
      ]
     },
     "execution_count": 4,
     "metadata": {},
     "output_type": "execute_result"
    }
   ],
   "source": [
    "detect_gender.test_model(batch_size=128)"
   ]
  },
  {
   "cell_type": "code",
   "execution_count": 5,
   "id": "b6e54e1e-4a88-412a-8a53-f95c5dd9b0a6",
   "metadata": {},
   "outputs": [
    {
     "data": {
      "image/png": "[encoded data removed]",
      "text/plain": [
       "<Figure size 720x360 with 2 Axes>"
      ]
     },
     "metadata": {
      "needs_background": "light"
     },
     "output_type": "display_data"
    }
   ],
   "source": [
    "detect_gender.plot_history()"
   ]
  },
  {
   "cell_type": "markdown",
   "id": "d3c9df7f-e3c1-492e-8738-3779dfbfd720",
   "metadata": {},
   "source": [
    "# 성차별/혐오 댓글 탐지 with kyKim/Bert-kor"
   ]
  },
  {
   "cell_type": "code",
   "execution_count": 3,
   "id": "c93b163c-5b0b-4b03-9664-e986ece7ea67",
   "metadata": {},
   "outputs": [
    {
     "name": "stderr",
     "output_type": "stream",
     "text": [
      "100%|█████████████████████████████████████| 7896/7896 [00:01<00:00, 6732.02it/s]\n",
      "100%|███████████████████████████████████████| 471/471 [00:00<00:00, 6771.13it/s]\n",
      "100%|███████████████████████████████████████| 974/974 [00:00<00:00, 6884.75it/s]\n",
      "2022-04-08 18:59:02.798111: I tensorflow/core/common_runtime/pluggable_device/pluggable_device_factory.cc:305] Could not identify NUMA node of platform GPU ID 0, defaulting to 0. Your kernel may not have been built with NUMA support.\n",
      "2022-04-08 18:59:02.798227: I tensorflow/core/common_runtime/pluggable_device/pluggable_device_factory.cc:271] Created TensorFlow device (/job:localhost/replica:0/task:0/device:GPU:0 with 0 MB memory) -> physical PluggableDevice (device: 0, name: METAL, pci bus id: <undefined>)\n"
     ]
    },
    {
     "name": "stdout",
     "output_type": "stream",
     "text": [
      "Metal device set to: Apple M1 Max\n"
     ]
    },
    {
     "name": "stderr",
     "output_type": "stream",
     "text": [
      "All model checkpoint layers were used when initializing TFBertModel.\n",
      "\n",
      "All the layers of TFBertModel were initialized from the model checkpoint at kykim/bert-kor-base.\n",
      "If your task is similar to the task the model of the checkpoint was trained on, you can already use TFBertModel for predictions without further training.\n"
     ]
    },
    {
     "name": "stdout",
     "output_type": "stream",
     "text": [
      "Epoch 1/10\n"
     ]
    },
    {
     "name": "stderr",
     "output_type": "stream",
     "text": [
      "2022-04-08 18:59:05.784848: W tensorflow/core/platform/profile_utils/cpu_utils.cc:128] Failed to get CPU frequency: 0 Hz\n",
      "2022-04-08 18:59:12.386009: I tensorflow/core/grappler/optimizers/custom_graph_optimizer_registry.cc:113] Plugin optimizer for device_type GPU is enabled.\n"
     ]
    },
    {
     "name": "stdout",
     "output_type": "stream",
     "text": [
      "62/62 [==============================] - ETA: 0s - loss: 0.4209 - accuracy: 0.8468"
     ]
    },
    {
     "name": "stderr",
     "output_type": "stream",
     "text": [
      "2022-04-08 19:00:09.669451: I tensorflow/core/grappler/optimizers/custom_graph_optimizer_registry.cc:113] Plugin optimizer for device_type GPU is enabled.\n"
     ]
    },
    {
     "name": "stdout",
     "output_type": "stream",
     "text": [
      "\n",
      "Epoch 1: val_accuracy improved from -inf to 0.91720, saving model to contain_gender_bias/kykim/bert-kor-base/cp.ckpt\n",
      "62/62 [==============================] - 71s 964ms/step - loss: 0.4209 - accuracy: 0.8468 - val_loss: 0.2624 - val_accuracy: 0.9172\n",
      "Epoch 2/10\n",
      "62/62 [==============================] - ETA: 0s - loss: 0.2865 - accuracy: 0.8961\n",
      "Epoch 2: val_accuracy did not improve from 0.91720\n",
      "62/62 [==============================] - 54s 852ms/step - loss: 0.2865 - accuracy: 0.8961 - val_loss: 0.2408 - val_accuracy: 0.9151\n",
      "Epoch 3/10\n",
      "62/62 [==============================] - ETA: 0s - loss: 0.2335 - accuracy: 0.9139\n",
      "Epoch 3: val_accuracy improved from 0.91720 to 0.93843, saving model to contain_gender_bias/kykim/bert-kor-base/cp.ckpt\n",
      "62/62 [==============================] - 56s 905ms/step - loss: 0.2335 - accuracy: 0.9139 - val_loss: 0.2164 - val_accuracy: 0.9384\n",
      "Epoch 4/10\n",
      "62/62 [==============================] - ETA: 0s - loss: 0.1685 - accuracy: 0.9383\n",
      "Epoch 4: val_accuracy did not improve from 0.93843\n",
      "62/62 [==============================] - 57s 904ms/step - loss: 0.1685 - accuracy: 0.9383 - val_loss: 0.2799 - val_accuracy: 0.9193\n",
      "Epoch 5/10\n",
      "62/62 [==============================] - ETA: 0s - loss: 0.1251 - accuracy: 0.9554\n",
      "Epoch 5: val_accuracy did not improve from 0.93843\n",
      "62/62 [==============================] - 57s 911ms/step - loss: 0.1251 - accuracy: 0.9554 - val_loss: 0.2625 - val_accuracy: 0.9299\n",
      "Epoch 6/10\n",
      "62/62 [==============================] - ETA: 0s - loss: 0.0790 - accuracy: 0.9718\n",
      "Epoch 6: val_accuracy did not improve from 0.93843\n",
      "62/62 [==============================] - 54s 877ms/step - loss: 0.0790 - accuracy: 0.9718 - val_loss: 0.3098 - val_accuracy: 0.9130\n",
      "Epoch 7/10\n",
      "62/62 [==============================] - ETA: 0s - loss: 0.0438 - accuracy: 0.9839\n",
      "Epoch 7: val_accuracy did not improve from 0.93843\n",
      "62/62 [==============================] - 52s 838ms/step - loss: 0.0438 - accuracy: 0.9839 - val_loss: 0.3536 - val_accuracy: 0.9151\n",
      "Epoch 8/10\n",
      "62/62 [==============================] - ETA: 0s - loss: 0.0441 - accuracy: 0.9843\n",
      "Epoch 8: val_accuracy did not improve from 0.93843\n",
      "62/62 [==============================] - 52s 839ms/step - loss: 0.0441 - accuracy: 0.9843 - val_loss: 0.3709 - val_accuracy: 0.9321\n",
      "Epoch 9/10\n",
      "62/62 [==============================] - ETA: 0s - loss: 0.0284 - accuracy: 0.9892\n",
      "Epoch 9: val_accuracy did not improve from 0.93843\n",
      "62/62 [==============================] - 52s 842ms/step - loss: 0.0284 - accuracy: 0.9892 - val_loss: 0.4815 - val_accuracy: 0.9342\n",
      "Epoch 10/10\n",
      "62/62 [==============================] - ETA: 0s - loss: 0.0159 - accuracy: 0.9939\n",
      "Epoch 10: val_accuracy did not improve from 0.93843\n",
      "62/62 [==============================] - 53s 855ms/step - loss: 0.0159 - accuracy: 0.9939 - val_loss: 0.4665 - val_accuracy: 0.9193\n"
     ]
    }
   ],
   "source": [
    "detect_gender_ = Detect_hate_comments(target=target[1], \n",
    "                                      model_name=model_name[1], \n",
    "                                      dir_path=dir_path[1])\n",
    "detect_gender_.train_model(epochs=10, batch_size=128)"
   ]
  },
  {
   "cell_type": "code",
   "execution_count": 9,
   "id": "33a512c6-7363-484f-b44e-aa26a1b109fc",
   "metadata": {},
   "outputs": [
    {
     "name": "stdout",
     "output_type": "stream",
     "text": [
      "0.9384288747346072 0.7521367521367521\n",
      "              precision    recall  f1-score   support\n",
      "\n",
      "           0       0.95      0.99      0.96       404\n",
      "           1       0.88      0.66      0.75        67\n",
      "\n",
      "    accuracy                           0.94       471\n",
      "   macro avg       0.91      0.82      0.86       471\n",
      "weighted avg       0.94      0.94      0.93       471\n",
      "\n"
     ]
    }
   ],
   "source": [
    "acc, f1, cls_report = detect_gender_.evaluation(batch_size=128)\n",
    "print(acc, f1)\n",
    "print(cls_report)"
   ]
  },
  {
   "cell_type": "code",
   "execution_count": 5,
   "id": "f11c113b-7358-45e9-86a9-b7ade51a6972",
   "metadata": {},
   "outputs": [
    {
     "data": {
      "text/html": [
       "<div>\n",
       "<style scoped>\n",
       "    .dataframe tbody tr th:only-of-type {\n",
       "        vertical-align: middle;\n",
       "    }\n",
       "\n",
       "    .dataframe tbody tr th {\n",
       "        vertical-align: top;\n",
       "    }\n",
       "\n",
       "    .dataframe thead th {\n",
       "        text-align: right;\n",
       "    }\n",
       "</style>\n",
       "<table border=\"1\" class=\"dataframe\">\n",
       "  <thead>\n",
       "    <tr style=\"text-align: right;\">\n",
       "      <th></th>\n",
       "      <th>comments</th>\n",
       "      <th>contain_gender_bias_prediction</th>\n",
       "    </tr>\n",
       "  </thead>\n",
       "  <tbody>\n",
       "    <tr>\n",
       "      <th>0</th>\n",
       "      <td>ㅋㅋㅋㅋ 그래도 조아해주는 팬들 많아서 좋겠다 ㅠㅠ 니들은 온유가 안만져줌 ㅠㅠ</td>\n",
       "      <td>0</td>\n",
       "    </tr>\n",
       "    <tr>\n",
       "      <th>1</th>\n",
       "      <td>둘다 넘 좋다~행복하세요</td>\n",
       "      <td>0</td>\n",
       "    </tr>\n",
       "    <tr>\n",
       "      <th>2</th>\n",
       "      <td>근데 만원이하는 현금결제만 하라고 써놓은집 우리나라에 엄청 많은데</td>\n",
       "      <td>0</td>\n",
       "    </tr>\n",
       "    <tr>\n",
       "      <th>3</th>\n",
       "      <td>원곡생각하나도 안나고 러블리즈 신곡나온줄!!! 너무 예쁘게 잘봤어요</td>\n",
       "      <td>0</td>\n",
       "    </tr>\n",
       "    <tr>\n",
       "      <th>4</th>\n",
       "      <td>장현승 얘도 참 이젠 짠하다...</td>\n",
       "      <td>0</td>\n",
       "    </tr>\n",
       "    <tr>\n",
       "      <th>...</th>\n",
       "      <td>...</td>\n",
       "      <td>...</td>\n",
       "    </tr>\n",
       "    <tr>\n",
       "      <th>969</th>\n",
       "      <td>대박 게스트... 꼭 봐야징~ 컨셉이 바뀌니깐 재미지넹</td>\n",
       "      <td>0</td>\n",
       "    </tr>\n",
       "    <tr>\n",
       "      <th>970</th>\n",
       "      <td>성형으로 다 뜯어고쳐놓고 예쁜척. 성형 전 니 얼굴 다 알고있다. 순자처럼 된장냄새...</td>\n",
       "      <td>1</td>\n",
       "    </tr>\n",
       "    <tr>\n",
       "      <th>971</th>\n",
       "      <td>분위기는 비슷하다만 전혀다른 전개던데 무슨ㅋㅋㄱ 우리나라사람들은 분위기만 비슷하면 ...</td>\n",
       "      <td>0</td>\n",
       "    </tr>\n",
       "    <tr>\n",
       "      <th>972</th>\n",
       "      <td>입에 손가릭이 10개 있으니 징그럽다</td>\n",
       "      <td>0</td>\n",
       "    </tr>\n",
       "    <tr>\n",
       "      <th>973</th>\n",
       "      <td>난 조보아 이뻐서 보는데 백종원 관심무</td>\n",
       "      <td>0</td>\n",
       "    </tr>\n",
       "  </tbody>\n",
       "</table>\n",
       "<p>974 rows × 2 columns</p>\n",
       "</div>"
      ],
      "text/plain": [
       "                                              comments  \\\n",
       "0         ㅋㅋㅋㅋ 그래도 조아해주는 팬들 많아서 좋겠다 ㅠㅠ 니들은 온유가 안만져줌 ㅠㅠ   \n",
       "1                                        둘다 넘 좋다~행복하세요   \n",
       "2                 근데 만원이하는 현금결제만 하라고 써놓은집 우리나라에 엄청 많은데   \n",
       "3                원곡생각하나도 안나고 러블리즈 신곡나온줄!!! 너무 예쁘게 잘봤어요   \n",
       "4                                   장현승 얘도 참 이젠 짠하다...   \n",
       "..                                                 ...   \n",
       "969                     대박 게스트... 꼭 봐야징~ 컨셉이 바뀌니깐 재미지넹   \n",
       "970  성형으로 다 뜯어고쳐놓고 예쁜척. 성형 전 니 얼굴 다 알고있다. 순자처럼 된장냄새...   \n",
       "971  분위기는 비슷하다만 전혀다른 전개던데 무슨ㅋㅋㄱ 우리나라사람들은 분위기만 비슷하면 ...   \n",
       "972                               입에 손가릭이 10개 있으니 징그럽다   \n",
       "973                              난 조보아 이뻐서 보는데 백종원 관심무   \n",
       "\n",
       "     contain_gender_bias_prediction  \n",
       "0                                 0  \n",
       "1                                 0  \n",
       "2                                 0  \n",
       "3                                 0  \n",
       "4                                 0  \n",
       "..                              ...  \n",
       "969                               0  \n",
       "970                               1  \n",
       "971                               0  \n",
       "972                               0  \n",
       "973                               0  \n",
       "\n",
       "[974 rows x 2 columns]"
      ]
     },
     "execution_count": 5,
     "metadata": {},
     "output_type": "execute_result"
    }
   ],
   "source": [
    "detect_gender_.test_model(batch_size=128)"
   ]
  },
  {
   "cell_type": "code",
   "execution_count": 6,
   "id": "ea368172-0144-498d-9358-300e3a94c573",
   "metadata": {},
   "outputs": [
    {
     "data": {
      "image/png": "[encoded data removed]",
      "text/plain": [
       "<Figure size 720x360 with 2 Axes>"
      ]
     },
     "metadata": {
      "needs_background": "light"
     },
     "output_type": "display_data"
    }
   ],
   "source": [
    "detect_gender_.plot_history()"
   ]
  },
  {
   "cell_type": "code",
   "execution_count": null,
   "id": "b90bcfd0-640a-44d9-8875-deafc48c1ff6",
   "metadata": {},
   "outputs": [],
   "source": []
  }
 ],
 "metadata": {
  "kernelspec": {
   "display_name": "Python 3 (ipykernel)",
   "language": "python",
   "name": "python3"
  },
  "language_info": {
   "codemirror_mode": {
    "name": "ipython",
    "version": 3
   },
   "file_extension": ".py",
   "mimetype": "text/x-python",
   "name": "python",
   "nbconvert_exporter": "python",
   "pygments_lexer": "ipython3",
   "version": "3.8.13"
  }
 },
 "nbformat": 4,
 "nbformat_minor": 5
}
